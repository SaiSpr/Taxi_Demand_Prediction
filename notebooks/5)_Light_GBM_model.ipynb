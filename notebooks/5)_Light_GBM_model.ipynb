{
  "cells": [
    {
      "cell_type": "markdown",
      "metadata": {
        "id": "r_K9AyyswGsH"
      },
      "source": [
        "### LIGHT GMB MODEL"
      ]
    },
    {
      "cell_type": "code",
      "execution_count": 178,
      "metadata": {},
      "outputs": [],
      "source": [
        "import warnings\n",
        "warnings.filterwarnings('ignore')"
      ]
    },
    {
      "cell_type": "code",
      "execution_count": 179,
      "metadata": {
        "id": "zFYdzmWUwGsR"
      },
      "outputs": [],
      "source": [
        "import lightgbm as lgb\n",
        "from datetime import datetime\n",
        "from typing import Tuple\n",
        "import numpy as np\n",
        "import pandas as pd\n",
        "from sklearn.metrics import mean_absolute_error\n",
        "import optuna\n",
        "from sklearn.model_selection import KFold,TimeSeriesSplit\n",
        "from sklearn.pipeline import make_pipeline, Pipeline\n",
        "from datetime import timedelta\n",
        "from typing import List"
      ]
    },
    {
      "cell_type": "code",
      "execution_count": 180,
      "metadata": {},
      "outputs": [
        {
          "data": {
            "text/html": [
              "<div>\n",
              "<style scoped>\n",
              "    .dataframe tbody tr th:only-of-type {\n",
              "        vertical-align: middle;\n",
              "    }\n",
              "\n",
              "    .dataframe tbody tr th {\n",
              "        vertical-align: top;\n",
              "    }\n",
              "\n",
              "    .dataframe thead th {\n",
              "        text-align: right;\n",
              "    }\n",
              "</style>\n",
              "<table border=\"1\" class=\"dataframe\">\n",
              "  <thead>\n",
              "    <tr style=\"text-align: right;\">\n",
              "      <th></th>\n",
              "      <th>rides_previous_648_hour</th>\n",
              "      <th>rides_previous_647_hour</th>\n",
              "      <th>rides_previous_646_hour</th>\n",
              "      <th>rides_previous_645_hour</th>\n",
              "      <th>rides_previous_644_hour</th>\n",
              "      <th>rides_previous_643_hour</th>\n",
              "      <th>rides_previous_642_hour</th>\n",
              "      <th>rides_previous_641_hour</th>\n",
              "      <th>rides_previous_640_hour</th>\n",
              "      <th>rides_previous_639_hour</th>\n",
              "      <th>...</th>\n",
              "      <th>rides_previous_7_hour</th>\n",
              "      <th>rides_previous_6_hour</th>\n",
              "      <th>rides_previous_5_hour</th>\n",
              "      <th>rides_previous_4_hour</th>\n",
              "      <th>rides_previous_3_hour</th>\n",
              "      <th>rides_previous_2_hour</th>\n",
              "      <th>rides_previous_1_hour</th>\n",
              "      <th>pickup_hour</th>\n",
              "      <th>pickup_location_id</th>\n",
              "      <th>target_rides_next_hour</th>\n",
              "    </tr>\n",
              "  </thead>\n",
              "  <tbody>\n",
              "    <tr>\n",
              "      <th>0</th>\n",
              "      <td>19.0</td>\n",
              "      <td>28.0</td>\n",
              "      <td>43.0</td>\n",
              "      <td>33.0</td>\n",
              "      <td>12.0</td>\n",
              "      <td>3.0</td>\n",
              "      <td>2.0</td>\n",
              "      <td>1.0</td>\n",
              "      <td>1.0</td>\n",
              "      <td>1.0</td>\n",
              "      <td>...</td>\n",
              "      <td>3.0</td>\n",
              "      <td>4.0</td>\n",
              "      <td>5.0</td>\n",
              "      <td>3.0</td>\n",
              "      <td>8.0</td>\n",
              "      <td>18.0</td>\n",
              "      <td>22.0</td>\n",
              "      <td>2023-01-28</td>\n",
              "      <td>4</td>\n",
              "      <td>58.0</td>\n",
              "    </tr>\n",
              "    <tr>\n",
              "      <th>1</th>\n",
              "      <td>1.0</td>\n",
              "      <td>0.0</td>\n",
              "      <td>0.0</td>\n",
              "      <td>0.0</td>\n",
              "      <td>0.0</td>\n",
              "      <td>2.0</td>\n",
              "      <td>1.0</td>\n",
              "      <td>0.0</td>\n",
              "      <td>2.0</td>\n",
              "      <td>0.0</td>\n",
              "      <td>...</td>\n",
              "      <td>5.0</td>\n",
              "      <td>5.0</td>\n",
              "      <td>7.0</td>\n",
              "      <td>5.0</td>\n",
              "      <td>8.0</td>\n",
              "      <td>15.0</td>\n",
              "      <td>26.0</td>\n",
              "      <td>2023-01-29</td>\n",
              "      <td>4</td>\n",
              "      <td>53.0</td>\n",
              "    </tr>\n",
              "    <tr>\n",
              "      <th>2</th>\n",
              "      <td>2.0</td>\n",
              "      <td>0.0</td>\n",
              "      <td>0.0</td>\n",
              "      <td>0.0</td>\n",
              "      <td>0.0</td>\n",
              "      <td>0.0</td>\n",
              "      <td>3.0</td>\n",
              "      <td>5.0</td>\n",
              "      <td>2.0</td>\n",
              "      <td>3.0</td>\n",
              "      <td>...</td>\n",
              "      <td>3.0</td>\n",
              "      <td>1.0</td>\n",
              "      <td>5.0</td>\n",
              "      <td>2.0</td>\n",
              "      <td>1.0</td>\n",
              "      <td>2.0</td>\n",
              "      <td>0.0</td>\n",
              "      <td>2023-01-30</td>\n",
              "      <td>4</td>\n",
              "      <td>2.0</td>\n",
              "    </tr>\n",
              "    <tr>\n",
              "      <th>3</th>\n",
              "      <td>3.0</td>\n",
              "      <td>1.0</td>\n",
              "      <td>0.0</td>\n",
              "      <td>0.0</td>\n",
              "      <td>0.0</td>\n",
              "      <td>0.0</td>\n",
              "      <td>1.0</td>\n",
              "      <td>2.0</td>\n",
              "      <td>6.0</td>\n",
              "      <td>2.0</td>\n",
              "      <td>...</td>\n",
              "      <td>2.0</td>\n",
              "      <td>1.0</td>\n",
              "      <td>1.0</td>\n",
              "      <td>1.0</td>\n",
              "      <td>0.0</td>\n",
              "      <td>0.0</td>\n",
              "      <td>2.0</td>\n",
              "      <td>2023-01-31</td>\n",
              "      <td>4</td>\n",
              "      <td>0.0</td>\n",
              "    </tr>\n",
              "    <tr>\n",
              "      <th>4</th>\n",
              "      <td>3.0</td>\n",
              "      <td>16.0</td>\n",
              "      <td>28.0</td>\n",
              "      <td>21.0</td>\n",
              "      <td>12.0</td>\n",
              "      <td>5.0</td>\n",
              "      <td>4.0</td>\n",
              "      <td>2.0</td>\n",
              "      <td>2.0</td>\n",
              "      <td>3.0</td>\n",
              "      <td>...</td>\n",
              "      <td>4.0</td>\n",
              "      <td>2.0</td>\n",
              "      <td>3.0</td>\n",
              "      <td>0.0</td>\n",
              "      <td>5.0</td>\n",
              "      <td>1.0</td>\n",
              "      <td>2.0</td>\n",
              "      <td>2023-01-28</td>\n",
              "      <td>7</td>\n",
              "      <td>1.0</td>\n",
              "    </tr>\n",
              "  </tbody>\n",
              "</table>\n",
              "<p>5 rows × 651 columns</p>\n",
              "</div>"
            ],
            "text/plain": [
              "   rides_previous_648_hour  rides_previous_647_hour  rides_previous_646_hour  \\\n",
              "0                     19.0                     28.0                     43.0   \n",
              "1                      1.0                      0.0                      0.0   \n",
              "2                      2.0                      0.0                      0.0   \n",
              "3                      3.0                      1.0                      0.0   \n",
              "4                      3.0                     16.0                     28.0   \n",
              "\n",
              "   rides_previous_645_hour  rides_previous_644_hour  rides_previous_643_hour  \\\n",
              "0                     33.0                     12.0                      3.0   \n",
              "1                      0.0                      0.0                      2.0   \n",
              "2                      0.0                      0.0                      0.0   \n",
              "3                      0.0                      0.0                      0.0   \n",
              "4                     21.0                     12.0                      5.0   \n",
              "\n",
              "   rides_previous_642_hour  rides_previous_641_hour  rides_previous_640_hour  \\\n",
              "0                      2.0                      1.0                      1.0   \n",
              "1                      1.0                      0.0                      2.0   \n",
              "2                      3.0                      5.0                      2.0   \n",
              "3                      1.0                      2.0                      6.0   \n",
              "4                      4.0                      2.0                      2.0   \n",
              "\n",
              "   rides_previous_639_hour  ...  rides_previous_7_hour  rides_previous_6_hour  \\\n",
              "0                      1.0  ...                    3.0                    4.0   \n",
              "1                      0.0  ...                    5.0                    5.0   \n",
              "2                      3.0  ...                    3.0                    1.0   \n",
              "3                      2.0  ...                    2.0                    1.0   \n",
              "4                      3.0  ...                    4.0                    2.0   \n",
              "\n",
              "   rides_previous_5_hour  rides_previous_4_hour  rides_previous_3_hour  \\\n",
              "0                    5.0                    3.0                    8.0   \n",
              "1                    7.0                    5.0                    8.0   \n",
              "2                    5.0                    2.0                    1.0   \n",
              "3                    1.0                    1.0                    0.0   \n",
              "4                    3.0                    0.0                    5.0   \n",
              "\n",
              "   rides_previous_2_hour  rides_previous_1_hour  pickup_hour  \\\n",
              "0                   18.0                   22.0   2023-01-28   \n",
              "1                   15.0                   26.0   2023-01-29   \n",
              "2                    2.0                    0.0   2023-01-30   \n",
              "3                    0.0                    2.0   2023-01-31   \n",
              "4                    1.0                    2.0   2023-01-28   \n",
              "\n",
              "   pickup_location_id  target_rides_next_hour  \n",
              "0                   4                    58.0  \n",
              "1                   4                    53.0  \n",
              "2                   4                     2.0  \n",
              "3                   4                     0.0  \n",
              "4                   7                     1.0  \n",
              "\n",
              "[5 rows x 651 columns]"
            ]
          },
          "execution_count": 180,
          "metadata": {},
          "output_type": "execute_result"
        }
      ],
      "source": [
        "df = pd.read_parquet('/Users/chetanhalai/Documents/code base for projects/4) uber/FINAL TAXI PROJECT 2023/tabular_data_final.parquet')\n",
        "df.head()"
      ]
    },
    {
      "cell_type": "code",
      "execution_count": 181,
      "metadata": {
        "id": "-7mWF5WuwGsV"
      },
      "outputs": [],
      "source": [
        "def train_test_split(\n",
        "    df: pd.DataFrame,\n",
        "    cutoff_date: datetime,\n",
        "    target_column_name: str,\n",
        "    ) -> Tuple[pd.DataFrame, pd.Series, pd.DataFrame, pd.Series]:\n",
        "    \"\"\"\n",
        "    \"\"\"\n",
        "    train_data = df[df.pickup_hour < cutoff_date].reset_index(drop=True)\n",
        "    test_data = df[df.pickup_hour >= cutoff_date].reset_index(drop=True)\n",
        "\n",
        "    X_train = train_data.drop(columns=[target_column_name])\n",
        "    y_train = train_data[target_column_name]\n",
        "    X_test = test_data.drop(columns=[target_column_name])\n",
        "    y_test = test_data[target_column_name]\n",
        "\n",
        "    return X_train, y_train, X_test, y_test"
      ]
    },
    {
      "cell_type": "code",
      "execution_count": 182,
      "metadata": {
        "colab": {
          "base_uri": "https://localhost:8080/"
        },
        "id": "ZezXZuEywGsW",
        "outputId": "13c97964-7e52-48fc-e5ac-c67355ef05f1"
      },
      "outputs": [
        {
          "name": "stdout",
          "output_type": "stream",
          "text": [
            "X_train.shape=(2330, 650)\n",
            "y_train.shape=(2330,)\n",
            "X_test.shape=(2592, 650)\n",
            "y_test.shape=(2592,)\n"
          ]
        }
      ],
      "source": [
        "X_train, y_train, X_test, y_test = train_test_split(\n",
        "    df,\n",
        "    cutoff_date=datetime(2023, 4, 1, 0, 0, 0),\n",
        "    target_column_name='target_rides_next_hour'\n",
        ")\n",
        "\n",
        "print(f'{X_train.shape=}')\n",
        "print(f'{y_train.shape=}')\n",
        "print(f'{X_test.shape=}')\n",
        "print(f'{y_test.shape=}')"
      ]
    },
    {
      "cell_type": "code",
      "execution_count": 183,
      "metadata": {
        "id": "-R2U491QwGsW"
      },
      "outputs": [],
      "source": [
        "# use only past rides data\n",
        "past_rides_columns = [c for c in X_train.columns if c.startswith('rides_')]\n",
        "X_train_only_numeric = X_train[past_rides_columns]"
      ]
    },
    {
      "cell_type": "code",
      "execution_count": 184,
      "metadata": {
        "id": "2BIIlCcvwGsX"
      },
      "outputs": [],
      "source": [
        "#convert to numpy values\n",
        "X_train_only_numeric = X_train_only_numeric.values"
      ]
    },
    {
      "cell_type": "code",
      "execution_count": 185,
      "metadata": {
        "id": "AcVx7CfpwGsX"
      },
      "outputs": [],
      "source": [
        "#convert to numpy values\n",
        "y_train = y_train.values"
      ]
    },
    {
      "cell_type": "code",
      "execution_count": 186,
      "metadata": {
        "colab": {
          "base_uri": "https://localhost:8080/",
          "height": 179
        },
        "id": "ov9PomQ2wGsY",
        "outputId": "a9ea010b-bd34-4630-c2d3-d57042c3e59d"
      },
      "outputs": [
        {
          "data": {
            "text/plain": [
              "LGBMRegressor()"
            ]
          },
          "execution_count": 186,
          "metadata": {},
          "output_type": "execute_result"
        }
      ],
      "source": [
        "model = lgb.LGBMRegressor()\n",
        "model.fit(X_train_only_numeric, y_train)"
      ]
    },
    {
      "cell_type": "code",
      "execution_count": 187,
      "metadata": {
        "colab": {
          "base_uri": "https://localhost:8080/"
        },
        "id": "pTK3Uk68wGsZ",
        "outputId": "ca6c4548-7c87-40a8-97a0-609b93927375"
      },
      "outputs": [
        {
          "name": "stdout",
          "output_type": "stream",
          "text": [
            "test_mae=3.8993\n"
          ]
        }
      ],
      "source": [
        "X_test_only_numeric = X_test[past_rides_columns]\n",
        "predictions = model.predict(X_test_only_numeric)\n",
        "\n",
        "test_mae = mean_absolute_error(y_test, predictions)\n",
        "test_mae = mean_absolute_error(y_test, predictions)\n",
        "print(f'{test_mae=:.4f}')"
      ]
    },
    {
      "cell_type": "markdown",
      "metadata": {
        "id": "cp5alGTgwGsZ"
      },
      "source": [
        "### Feature Engineering\n",
        "\n",
        "As date time variables cant be ingested by bosting algorithms i will do a little bit of feature enginnering - and create alternative columns for our original 'Pick-up hour' column - create latitude and longitude for location id's"
      ]
    },
    {
      "cell_type": "code",
      "execution_count": 188,
      "metadata": {
        "id": "jxUrR1AwwGsa"
      },
      "outputs": [],
      "source": [
        "#Average number of ride for the previous 3 weeks\n",
        "def average_rides_last_3_weeks(X: pd.DataFrame) -> pd.DataFrame:\n",
        "    \"\"\"\n",
        "    Adds one column with the average rides from\n",
        "    - 7 days ago\n",
        "    - 14 days ago\n",
        "    - 21 days ago\n",
        "    \"\"\"\n",
        "    X['average_rides_last_3_weeks'] = 0.33*(\n",
        "        X[f'rides_previous_{7*24}_hour'] + \\\n",
        "        X[f'rides_previous_{2*7*24}_hour'] + \\\n",
        "        X[f'rides_previous_{3*7*24}_hour']\n",
        "    )\n",
        "\n",
        "    return X"
      ]
    },
    {
      "cell_type": "code",
      "execution_count": 189,
      "metadata": {
        "id": "wZriiNkhwGsa"
      },
      "outputs": [],
      "source": [
        "from sklearn.preprocessing import FunctionTransformer"
      ]
    },
    {
      "cell_type": "markdown",
      "metadata": {
        "id": "QzzmzYp3wGsb"
      },
      "source": [
        "In order t create a pipline - Pipeline is to execute the repeated functions sequentially - pipleine does not take customer functions directly - It will only accept custome functions through 'Function tranformer method\n",
        "\n",
        "that is why we are adding our function to the transformer]\n",
        "\n",
        "- Fit_transform -"
      ]
    },
    {
      "cell_type": "code",
      "execution_count": 190,
      "metadata": {
        "colab": {
          "base_uri": "https://localhost:8080/",
          "height": 444
        },
        "id": "CGSalcWSwGsb",
        "outputId": "8988d9d8-d982-4a86-d4af-25775a27c03a"
      },
      "outputs": [
        {
          "data": {
            "text/html": [
              "<div>\n",
              "<style scoped>\n",
              "    .dataframe tbody tr th:only-of-type {\n",
              "        vertical-align: middle;\n",
              "    }\n",
              "\n",
              "    .dataframe tbody tr th {\n",
              "        vertical-align: top;\n",
              "    }\n",
              "\n",
              "    .dataframe thead th {\n",
              "        text-align: right;\n",
              "    }\n",
              "</style>\n",
              "<table border=\"1\" class=\"dataframe\">\n",
              "  <thead>\n",
              "    <tr style=\"text-align: right;\">\n",
              "      <th></th>\n",
              "      <th>rides_previous_648_hour</th>\n",
              "      <th>rides_previous_647_hour</th>\n",
              "      <th>rides_previous_646_hour</th>\n",
              "      <th>rides_previous_645_hour</th>\n",
              "      <th>rides_previous_644_hour</th>\n",
              "      <th>rides_previous_643_hour</th>\n",
              "      <th>rides_previous_642_hour</th>\n",
              "      <th>rides_previous_641_hour</th>\n",
              "      <th>rides_previous_640_hour</th>\n",
              "      <th>rides_previous_639_hour</th>\n",
              "      <th>...</th>\n",
              "      <th>rides_previous_7_hour</th>\n",
              "      <th>rides_previous_6_hour</th>\n",
              "      <th>rides_previous_5_hour</th>\n",
              "      <th>rides_previous_4_hour</th>\n",
              "      <th>rides_previous_3_hour</th>\n",
              "      <th>rides_previous_2_hour</th>\n",
              "      <th>rides_previous_1_hour</th>\n",
              "      <th>pickup_hour</th>\n",
              "      <th>pickup_location_id</th>\n",
              "      <th>average_rides_last_3_weeks</th>\n",
              "    </tr>\n",
              "  </thead>\n",
              "  <tbody>\n",
              "    <tr>\n",
              "      <th>0</th>\n",
              "      <td>19.0</td>\n",
              "      <td>28.0</td>\n",
              "      <td>43.0</td>\n",
              "      <td>33.0</td>\n",
              "      <td>12.0</td>\n",
              "      <td>3.0</td>\n",
              "      <td>2.0</td>\n",
              "      <td>1.0</td>\n",
              "      <td>1.0</td>\n",
              "      <td>1.0</td>\n",
              "      <td>...</td>\n",
              "      <td>3.0</td>\n",
              "      <td>4.0</td>\n",
              "      <td>5.0</td>\n",
              "      <td>3.0</td>\n",
              "      <td>8.0</td>\n",
              "      <td>18.0</td>\n",
              "      <td>22.0</td>\n",
              "      <td>2023-01-28</td>\n",
              "      <td>4</td>\n",
              "      <td>40.920002</td>\n",
              "    </tr>\n",
              "    <tr>\n",
              "      <th>1</th>\n",
              "      <td>1.0</td>\n",
              "      <td>0.0</td>\n",
              "      <td>0.0</td>\n",
              "      <td>0.0</td>\n",
              "      <td>0.0</td>\n",
              "      <td>2.0</td>\n",
              "      <td>1.0</td>\n",
              "      <td>0.0</td>\n",
              "      <td>2.0</td>\n",
              "      <td>0.0</td>\n",
              "      <td>...</td>\n",
              "      <td>5.0</td>\n",
              "      <td>5.0</td>\n",
              "      <td>7.0</td>\n",
              "      <td>5.0</td>\n",
              "      <td>8.0</td>\n",
              "      <td>15.0</td>\n",
              "      <td>26.0</td>\n",
              "      <td>2023-01-29</td>\n",
              "      <td>4</td>\n",
              "      <td>47.520000</td>\n",
              "    </tr>\n",
              "    <tr>\n",
              "      <th>2</th>\n",
              "      <td>2.0</td>\n",
              "      <td>0.0</td>\n",
              "      <td>0.0</td>\n",
              "      <td>0.0</td>\n",
              "      <td>0.0</td>\n",
              "      <td>0.0</td>\n",
              "      <td>3.0</td>\n",
              "      <td>5.0</td>\n",
              "      <td>2.0</td>\n",
              "      <td>3.0</td>\n",
              "      <td>...</td>\n",
              "      <td>3.0</td>\n",
              "      <td>1.0</td>\n",
              "      <td>5.0</td>\n",
              "      <td>2.0</td>\n",
              "      <td>1.0</td>\n",
              "      <td>2.0</td>\n",
              "      <td>0.0</td>\n",
              "      <td>2023-01-30</td>\n",
              "      <td>4</td>\n",
              "      <td>2.970000</td>\n",
              "    </tr>\n",
              "    <tr>\n",
              "      <th>3</th>\n",
              "      <td>3.0</td>\n",
              "      <td>1.0</td>\n",
              "      <td>0.0</td>\n",
              "      <td>0.0</td>\n",
              "      <td>0.0</td>\n",
              "      <td>0.0</td>\n",
              "      <td>1.0</td>\n",
              "      <td>2.0</td>\n",
              "      <td>6.0</td>\n",
              "      <td>2.0</td>\n",
              "      <td>...</td>\n",
              "      <td>2.0</td>\n",
              "      <td>1.0</td>\n",
              "      <td>1.0</td>\n",
              "      <td>1.0</td>\n",
              "      <td>0.0</td>\n",
              "      <td>0.0</td>\n",
              "      <td>2.0</td>\n",
              "      <td>2023-01-31</td>\n",
              "      <td>4</td>\n",
              "      <td>1.320000</td>\n",
              "    </tr>\n",
              "    <tr>\n",
              "      <th>4</th>\n",
              "      <td>3.0</td>\n",
              "      <td>16.0</td>\n",
              "      <td>28.0</td>\n",
              "      <td>21.0</td>\n",
              "      <td>12.0</td>\n",
              "      <td>5.0</td>\n",
              "      <td>4.0</td>\n",
              "      <td>2.0</td>\n",
              "      <td>2.0</td>\n",
              "      <td>3.0</td>\n",
              "      <td>...</td>\n",
              "      <td>4.0</td>\n",
              "      <td>2.0</td>\n",
              "      <td>3.0</td>\n",
              "      <td>0.0</td>\n",
              "      <td>5.0</td>\n",
              "      <td>1.0</td>\n",
              "      <td>2.0</td>\n",
              "      <td>2023-01-28</td>\n",
              "      <td>7</td>\n",
              "      <td>2.310000</td>\n",
              "    </tr>\n",
              "    <tr>\n",
              "      <th>...</th>\n",
              "      <td>...</td>\n",
              "      <td>...</td>\n",
              "      <td>...</td>\n",
              "      <td>...</td>\n",
              "      <td>...</td>\n",
              "      <td>...</td>\n",
              "      <td>...</td>\n",
              "      <td>...</td>\n",
              "      <td>...</td>\n",
              "      <td>...</td>\n",
              "      <td>...</td>\n",
              "      <td>...</td>\n",
              "      <td>...</td>\n",
              "      <td>...</td>\n",
              "      <td>...</td>\n",
              "      <td>...</td>\n",
              "      <td>...</td>\n",
              "      <td>...</td>\n",
              "      <td>...</td>\n",
              "      <td>...</td>\n",
              "      <td>...</td>\n",
              "    </tr>\n",
              "    <tr>\n",
              "      <th>2325</th>\n",
              "      <td>0.0</td>\n",
              "      <td>0.0</td>\n",
              "      <td>0.0</td>\n",
              "      <td>0.0</td>\n",
              "      <td>0.0</td>\n",
              "      <td>0.0</td>\n",
              "      <td>0.0</td>\n",
              "      <td>0.0</td>\n",
              "      <td>0.0</td>\n",
              "      <td>0.0</td>\n",
              "      <td>...</td>\n",
              "      <td>0.0</td>\n",
              "      <td>0.0</td>\n",
              "      <td>0.0</td>\n",
              "      <td>0.0</td>\n",
              "      <td>0.0</td>\n",
              "      <td>0.0</td>\n",
              "      <td>0.0</td>\n",
              "      <td>2023-03-31</td>\n",
              "      <td>30</td>\n",
              "      <td>0.000000</td>\n",
              "    </tr>\n",
              "    <tr>\n",
              "      <th>2326</th>\n",
              "      <td>0.0</td>\n",
              "      <td>0.0</td>\n",
              "      <td>0.0</td>\n",
              "      <td>0.0</td>\n",
              "      <td>0.0</td>\n",
              "      <td>0.0</td>\n",
              "      <td>0.0</td>\n",
              "      <td>0.0</td>\n",
              "      <td>0.0</td>\n",
              "      <td>0.0</td>\n",
              "      <td>...</td>\n",
              "      <td>0.0</td>\n",
              "      <td>0.0</td>\n",
              "      <td>0.0</td>\n",
              "      <td>0.0</td>\n",
              "      <td>0.0</td>\n",
              "      <td>0.0</td>\n",
              "      <td>0.0</td>\n",
              "      <td>2023-03-28</td>\n",
              "      <td>109</td>\n",
              "      <td>0.000000</td>\n",
              "    </tr>\n",
              "    <tr>\n",
              "      <th>2327</th>\n",
              "      <td>0.0</td>\n",
              "      <td>0.0</td>\n",
              "      <td>0.0</td>\n",
              "      <td>0.0</td>\n",
              "      <td>0.0</td>\n",
              "      <td>0.0</td>\n",
              "      <td>0.0</td>\n",
              "      <td>0.0</td>\n",
              "      <td>0.0</td>\n",
              "      <td>0.0</td>\n",
              "      <td>...</td>\n",
              "      <td>0.0</td>\n",
              "      <td>0.0</td>\n",
              "      <td>0.0</td>\n",
              "      <td>0.0</td>\n",
              "      <td>0.0</td>\n",
              "      <td>0.0</td>\n",
              "      <td>0.0</td>\n",
              "      <td>2023-03-29</td>\n",
              "      <td>109</td>\n",
              "      <td>0.000000</td>\n",
              "    </tr>\n",
              "    <tr>\n",
              "      <th>2328</th>\n",
              "      <td>0.0</td>\n",
              "      <td>0.0</td>\n",
              "      <td>0.0</td>\n",
              "      <td>0.0</td>\n",
              "      <td>0.0</td>\n",
              "      <td>0.0</td>\n",
              "      <td>0.0</td>\n",
              "      <td>0.0</td>\n",
              "      <td>0.0</td>\n",
              "      <td>0.0</td>\n",
              "      <td>...</td>\n",
              "      <td>0.0</td>\n",
              "      <td>0.0</td>\n",
              "      <td>0.0</td>\n",
              "      <td>0.0</td>\n",
              "      <td>0.0</td>\n",
              "      <td>0.0</td>\n",
              "      <td>0.0</td>\n",
              "      <td>2023-03-30</td>\n",
              "      <td>109</td>\n",
              "      <td>0.000000</td>\n",
              "    </tr>\n",
              "    <tr>\n",
              "      <th>2329</th>\n",
              "      <td>0.0</td>\n",
              "      <td>0.0</td>\n",
              "      <td>0.0</td>\n",
              "      <td>0.0</td>\n",
              "      <td>0.0</td>\n",
              "      <td>0.0</td>\n",
              "      <td>0.0</td>\n",
              "      <td>0.0</td>\n",
              "      <td>0.0</td>\n",
              "      <td>0.0</td>\n",
              "      <td>...</td>\n",
              "      <td>0.0</td>\n",
              "      <td>0.0</td>\n",
              "      <td>0.0</td>\n",
              "      <td>0.0</td>\n",
              "      <td>1.0</td>\n",
              "      <td>0.0</td>\n",
              "      <td>0.0</td>\n",
              "      <td>2023-03-31</td>\n",
              "      <td>109</td>\n",
              "      <td>0.000000</td>\n",
              "    </tr>\n",
              "  </tbody>\n",
              "</table>\n",
              "<p>2330 rows × 651 columns</p>\n",
              "</div>"
            ],
            "text/plain": [
              "      rides_previous_648_hour  rides_previous_647_hour  \\\n",
              "0                        19.0                     28.0   \n",
              "1                         1.0                      0.0   \n",
              "2                         2.0                      0.0   \n",
              "3                         3.0                      1.0   \n",
              "4                         3.0                     16.0   \n",
              "...                       ...                      ...   \n",
              "2325                      0.0                      0.0   \n",
              "2326                      0.0                      0.0   \n",
              "2327                      0.0                      0.0   \n",
              "2328                      0.0                      0.0   \n",
              "2329                      0.0                      0.0   \n",
              "\n",
              "      rides_previous_646_hour  rides_previous_645_hour  \\\n",
              "0                        43.0                     33.0   \n",
              "1                         0.0                      0.0   \n",
              "2                         0.0                      0.0   \n",
              "3                         0.0                      0.0   \n",
              "4                        28.0                     21.0   \n",
              "...                       ...                      ...   \n",
              "2325                      0.0                      0.0   \n",
              "2326                      0.0                      0.0   \n",
              "2327                      0.0                      0.0   \n",
              "2328                      0.0                      0.0   \n",
              "2329                      0.0                      0.0   \n",
              "\n",
              "      rides_previous_644_hour  rides_previous_643_hour  \\\n",
              "0                        12.0                      3.0   \n",
              "1                         0.0                      2.0   \n",
              "2                         0.0                      0.0   \n",
              "3                         0.0                      0.0   \n",
              "4                        12.0                      5.0   \n",
              "...                       ...                      ...   \n",
              "2325                      0.0                      0.0   \n",
              "2326                      0.0                      0.0   \n",
              "2327                      0.0                      0.0   \n",
              "2328                      0.0                      0.0   \n",
              "2329                      0.0                      0.0   \n",
              "\n",
              "      rides_previous_642_hour  rides_previous_641_hour  \\\n",
              "0                         2.0                      1.0   \n",
              "1                         1.0                      0.0   \n",
              "2                         3.0                      5.0   \n",
              "3                         1.0                      2.0   \n",
              "4                         4.0                      2.0   \n",
              "...                       ...                      ...   \n",
              "2325                      0.0                      0.0   \n",
              "2326                      0.0                      0.0   \n",
              "2327                      0.0                      0.0   \n",
              "2328                      0.0                      0.0   \n",
              "2329                      0.0                      0.0   \n",
              "\n",
              "      rides_previous_640_hour  rides_previous_639_hour  ...  \\\n",
              "0                         1.0                      1.0  ...   \n",
              "1                         2.0                      0.0  ...   \n",
              "2                         2.0                      3.0  ...   \n",
              "3                         6.0                      2.0  ...   \n",
              "4                         2.0                      3.0  ...   \n",
              "...                       ...                      ...  ...   \n",
              "2325                      0.0                      0.0  ...   \n",
              "2326                      0.0                      0.0  ...   \n",
              "2327                      0.0                      0.0  ...   \n",
              "2328                      0.0                      0.0  ...   \n",
              "2329                      0.0                      0.0  ...   \n",
              "\n",
              "      rides_previous_7_hour  rides_previous_6_hour  rides_previous_5_hour  \\\n",
              "0                       3.0                    4.0                    5.0   \n",
              "1                       5.0                    5.0                    7.0   \n",
              "2                       3.0                    1.0                    5.0   \n",
              "3                       2.0                    1.0                    1.0   \n",
              "4                       4.0                    2.0                    3.0   \n",
              "...                     ...                    ...                    ...   \n",
              "2325                    0.0                    0.0                    0.0   \n",
              "2326                    0.0                    0.0                    0.0   \n",
              "2327                    0.0                    0.0                    0.0   \n",
              "2328                    0.0                    0.0                    0.0   \n",
              "2329                    0.0                    0.0                    0.0   \n",
              "\n",
              "      rides_previous_4_hour  rides_previous_3_hour  rides_previous_2_hour  \\\n",
              "0                       3.0                    8.0                   18.0   \n",
              "1                       5.0                    8.0                   15.0   \n",
              "2                       2.0                    1.0                    2.0   \n",
              "3                       1.0                    0.0                    0.0   \n",
              "4                       0.0                    5.0                    1.0   \n",
              "...                     ...                    ...                    ...   \n",
              "2325                    0.0                    0.0                    0.0   \n",
              "2326                    0.0                    0.0                    0.0   \n",
              "2327                    0.0                    0.0                    0.0   \n",
              "2328                    0.0                    0.0                    0.0   \n",
              "2329                    0.0                    1.0                    0.0   \n",
              "\n",
              "      rides_previous_1_hour  pickup_hour  pickup_location_id  \\\n",
              "0                      22.0   2023-01-28                   4   \n",
              "1                      26.0   2023-01-29                   4   \n",
              "2                       0.0   2023-01-30                   4   \n",
              "3                       2.0   2023-01-31                   4   \n",
              "4                       2.0   2023-01-28                   7   \n",
              "...                     ...          ...                 ...   \n",
              "2325                    0.0   2023-03-31                  30   \n",
              "2326                    0.0   2023-03-28                 109   \n",
              "2327                    0.0   2023-03-29                 109   \n",
              "2328                    0.0   2023-03-30                 109   \n",
              "2329                    0.0   2023-03-31                 109   \n",
              "\n",
              "      average_rides_last_3_weeks  \n",
              "0                      40.920002  \n",
              "1                      47.520000  \n",
              "2                       2.970000  \n",
              "3                       1.320000  \n",
              "4                       2.310000  \n",
              "...                          ...  \n",
              "2325                    0.000000  \n",
              "2326                    0.000000  \n",
              "2327                    0.000000  \n",
              "2328                    0.000000  \n",
              "2329                    0.000000  \n",
              "\n",
              "[2330 rows x 651 columns]"
            ]
          },
          "execution_count": 190,
          "metadata": {},
          "output_type": "execute_result"
        }
      ],
      "source": [
        "add_feature_average_rides_last_3_weeks = FunctionTransformer(\n",
        "    average_rides_last_3_weeks, validate=False)\n",
        "\n",
        "add_feature_average_rides_last_3_weeks.fit_transform(X_train)"
      ]
    },
    {
      "cell_type": "code",
      "execution_count": 191,
      "metadata": {
        "id": "uuHSQ7ZJwGsb"
      },
      "outputs": [],
      "source": [
        "from sklearn.base import BaseEstimator, TransformerMixin"
      ]
    },
    {
      "cell_type": "markdown",
      "metadata": {
        "id": "CSpGhmp5wGsb"
      },
      "source": [
        "Classes(models) that allow us to add custom classes to the pipline\n",
        "BaseEstimator - give access to get_params , and set_params \n",
        "TransformerMixin - gives us access to  .fit(), .transaform(), .fit_transform()\n",
        "\n"
      ]
    },
    {
      "cell_type": "code",
      "execution_count": 192,
      "metadata": {
        "id": "Vgs3D41HwGsc"
      },
      "outputs": [],
      "source": [
        "class TemporalFeaturesEngineer(BaseEstimator, TransformerMixin):\n",
        "\n",
        "    def fit(self, X, y=None):\n",
        "        return self\n",
        "\n",
        "    def transform(self, X, y=None):\n",
        "\n",
        "        X_ = X.copy()\n",
        "\n",
        "        # Generate numeric columns from datetime\n",
        "        X_[\"hour\"] = X_['pickup_hour'].dt.hour\n",
        "        X_[\"day_of_week\"] = X_['pickup_hour'].dt.dayofweek\n",
        "\n",
        "        return X_.drop(columns=['pickup_hour'])"
      ]
    },
    {
      "cell_type": "code",
      "execution_count": 193,
      "metadata": {
        "colab": {
          "base_uri": "https://localhost:8080/",
          "height": 444
        },
        "id": "rbUDmWjbwGsd",
        "outputId": "462cdd53-e769-47d8-eefe-4d72f72098cf"
      },
      "outputs": [
        {
          "data": {
            "text/html": [
              "<div>\n",
              "<style scoped>\n",
              "    .dataframe tbody tr th:only-of-type {\n",
              "        vertical-align: middle;\n",
              "    }\n",
              "\n",
              "    .dataframe tbody tr th {\n",
              "        vertical-align: top;\n",
              "    }\n",
              "\n",
              "    .dataframe thead th {\n",
              "        text-align: right;\n",
              "    }\n",
              "</style>\n",
              "<table border=\"1\" class=\"dataframe\">\n",
              "  <thead>\n",
              "    <tr style=\"text-align: right;\">\n",
              "      <th></th>\n",
              "      <th>rides_previous_648_hour</th>\n",
              "      <th>rides_previous_647_hour</th>\n",
              "      <th>rides_previous_646_hour</th>\n",
              "      <th>rides_previous_645_hour</th>\n",
              "      <th>rides_previous_644_hour</th>\n",
              "      <th>rides_previous_643_hour</th>\n",
              "      <th>rides_previous_642_hour</th>\n",
              "      <th>rides_previous_641_hour</th>\n",
              "      <th>rides_previous_640_hour</th>\n",
              "      <th>rides_previous_639_hour</th>\n",
              "      <th>...</th>\n",
              "      <th>rides_previous_6_hour</th>\n",
              "      <th>rides_previous_5_hour</th>\n",
              "      <th>rides_previous_4_hour</th>\n",
              "      <th>rides_previous_3_hour</th>\n",
              "      <th>rides_previous_2_hour</th>\n",
              "      <th>rides_previous_1_hour</th>\n",
              "      <th>pickup_location_id</th>\n",
              "      <th>average_rides_last_3_weeks</th>\n",
              "      <th>hour</th>\n",
              "      <th>day_of_week</th>\n",
              "    </tr>\n",
              "  </thead>\n",
              "  <tbody>\n",
              "    <tr>\n",
              "      <th>0</th>\n",
              "      <td>19.0</td>\n",
              "      <td>28.0</td>\n",
              "      <td>43.0</td>\n",
              "      <td>33.0</td>\n",
              "      <td>12.0</td>\n",
              "      <td>3.0</td>\n",
              "      <td>2.0</td>\n",
              "      <td>1.0</td>\n",
              "      <td>1.0</td>\n",
              "      <td>1.0</td>\n",
              "      <td>...</td>\n",
              "      <td>4.0</td>\n",
              "      <td>5.0</td>\n",
              "      <td>3.0</td>\n",
              "      <td>8.0</td>\n",
              "      <td>18.0</td>\n",
              "      <td>22.0</td>\n",
              "      <td>4</td>\n",
              "      <td>40.920002</td>\n",
              "      <td>0</td>\n",
              "      <td>5</td>\n",
              "    </tr>\n",
              "    <tr>\n",
              "      <th>1</th>\n",
              "      <td>1.0</td>\n",
              "      <td>0.0</td>\n",
              "      <td>0.0</td>\n",
              "      <td>0.0</td>\n",
              "      <td>0.0</td>\n",
              "      <td>2.0</td>\n",
              "      <td>1.0</td>\n",
              "      <td>0.0</td>\n",
              "      <td>2.0</td>\n",
              "      <td>0.0</td>\n",
              "      <td>...</td>\n",
              "      <td>5.0</td>\n",
              "      <td>7.0</td>\n",
              "      <td>5.0</td>\n",
              "      <td>8.0</td>\n",
              "      <td>15.0</td>\n",
              "      <td>26.0</td>\n",
              "      <td>4</td>\n",
              "      <td>47.520000</td>\n",
              "      <td>0</td>\n",
              "      <td>6</td>\n",
              "    </tr>\n",
              "    <tr>\n",
              "      <th>2</th>\n",
              "      <td>2.0</td>\n",
              "      <td>0.0</td>\n",
              "      <td>0.0</td>\n",
              "      <td>0.0</td>\n",
              "      <td>0.0</td>\n",
              "      <td>0.0</td>\n",
              "      <td>3.0</td>\n",
              "      <td>5.0</td>\n",
              "      <td>2.0</td>\n",
              "      <td>3.0</td>\n",
              "      <td>...</td>\n",
              "      <td>1.0</td>\n",
              "      <td>5.0</td>\n",
              "      <td>2.0</td>\n",
              "      <td>1.0</td>\n",
              "      <td>2.0</td>\n",
              "      <td>0.0</td>\n",
              "      <td>4</td>\n",
              "      <td>2.970000</td>\n",
              "      <td>0</td>\n",
              "      <td>0</td>\n",
              "    </tr>\n",
              "    <tr>\n",
              "      <th>3</th>\n",
              "      <td>3.0</td>\n",
              "      <td>1.0</td>\n",
              "      <td>0.0</td>\n",
              "      <td>0.0</td>\n",
              "      <td>0.0</td>\n",
              "      <td>0.0</td>\n",
              "      <td>1.0</td>\n",
              "      <td>2.0</td>\n",
              "      <td>6.0</td>\n",
              "      <td>2.0</td>\n",
              "      <td>...</td>\n",
              "      <td>1.0</td>\n",
              "      <td>1.0</td>\n",
              "      <td>1.0</td>\n",
              "      <td>0.0</td>\n",
              "      <td>0.0</td>\n",
              "      <td>2.0</td>\n",
              "      <td>4</td>\n",
              "      <td>1.320000</td>\n",
              "      <td>0</td>\n",
              "      <td>1</td>\n",
              "    </tr>\n",
              "    <tr>\n",
              "      <th>4</th>\n",
              "      <td>3.0</td>\n",
              "      <td>16.0</td>\n",
              "      <td>28.0</td>\n",
              "      <td>21.0</td>\n",
              "      <td>12.0</td>\n",
              "      <td>5.0</td>\n",
              "      <td>4.0</td>\n",
              "      <td>2.0</td>\n",
              "      <td>2.0</td>\n",
              "      <td>3.0</td>\n",
              "      <td>...</td>\n",
              "      <td>2.0</td>\n",
              "      <td>3.0</td>\n",
              "      <td>0.0</td>\n",
              "      <td>5.0</td>\n",
              "      <td>1.0</td>\n",
              "      <td>2.0</td>\n",
              "      <td>7</td>\n",
              "      <td>2.310000</td>\n",
              "      <td>0</td>\n",
              "      <td>5</td>\n",
              "    </tr>\n",
              "    <tr>\n",
              "      <th>...</th>\n",
              "      <td>...</td>\n",
              "      <td>...</td>\n",
              "      <td>...</td>\n",
              "      <td>...</td>\n",
              "      <td>...</td>\n",
              "      <td>...</td>\n",
              "      <td>...</td>\n",
              "      <td>...</td>\n",
              "      <td>...</td>\n",
              "      <td>...</td>\n",
              "      <td>...</td>\n",
              "      <td>...</td>\n",
              "      <td>...</td>\n",
              "      <td>...</td>\n",
              "      <td>...</td>\n",
              "      <td>...</td>\n",
              "      <td>...</td>\n",
              "      <td>...</td>\n",
              "      <td>...</td>\n",
              "      <td>...</td>\n",
              "      <td>...</td>\n",
              "    </tr>\n",
              "    <tr>\n",
              "      <th>2325</th>\n",
              "      <td>0.0</td>\n",
              "      <td>0.0</td>\n",
              "      <td>0.0</td>\n",
              "      <td>0.0</td>\n",
              "      <td>0.0</td>\n",
              "      <td>0.0</td>\n",
              "      <td>0.0</td>\n",
              "      <td>0.0</td>\n",
              "      <td>0.0</td>\n",
              "      <td>0.0</td>\n",
              "      <td>...</td>\n",
              "      <td>0.0</td>\n",
              "      <td>0.0</td>\n",
              "      <td>0.0</td>\n",
              "      <td>0.0</td>\n",
              "      <td>0.0</td>\n",
              "      <td>0.0</td>\n",
              "      <td>30</td>\n",
              "      <td>0.000000</td>\n",
              "      <td>0</td>\n",
              "      <td>4</td>\n",
              "    </tr>\n",
              "    <tr>\n",
              "      <th>2326</th>\n",
              "      <td>0.0</td>\n",
              "      <td>0.0</td>\n",
              "      <td>0.0</td>\n",
              "      <td>0.0</td>\n",
              "      <td>0.0</td>\n",
              "      <td>0.0</td>\n",
              "      <td>0.0</td>\n",
              "      <td>0.0</td>\n",
              "      <td>0.0</td>\n",
              "      <td>0.0</td>\n",
              "      <td>...</td>\n",
              "      <td>0.0</td>\n",
              "      <td>0.0</td>\n",
              "      <td>0.0</td>\n",
              "      <td>0.0</td>\n",
              "      <td>0.0</td>\n",
              "      <td>0.0</td>\n",
              "      <td>109</td>\n",
              "      <td>0.000000</td>\n",
              "      <td>0</td>\n",
              "      <td>1</td>\n",
              "    </tr>\n",
              "    <tr>\n",
              "      <th>2327</th>\n",
              "      <td>0.0</td>\n",
              "      <td>0.0</td>\n",
              "      <td>0.0</td>\n",
              "      <td>0.0</td>\n",
              "      <td>0.0</td>\n",
              "      <td>0.0</td>\n",
              "      <td>0.0</td>\n",
              "      <td>0.0</td>\n",
              "      <td>0.0</td>\n",
              "      <td>0.0</td>\n",
              "      <td>...</td>\n",
              "      <td>0.0</td>\n",
              "      <td>0.0</td>\n",
              "      <td>0.0</td>\n",
              "      <td>0.0</td>\n",
              "      <td>0.0</td>\n",
              "      <td>0.0</td>\n",
              "      <td>109</td>\n",
              "      <td>0.000000</td>\n",
              "      <td>0</td>\n",
              "      <td>2</td>\n",
              "    </tr>\n",
              "    <tr>\n",
              "      <th>2328</th>\n",
              "      <td>0.0</td>\n",
              "      <td>0.0</td>\n",
              "      <td>0.0</td>\n",
              "      <td>0.0</td>\n",
              "      <td>0.0</td>\n",
              "      <td>0.0</td>\n",
              "      <td>0.0</td>\n",
              "      <td>0.0</td>\n",
              "      <td>0.0</td>\n",
              "      <td>0.0</td>\n",
              "      <td>...</td>\n",
              "      <td>0.0</td>\n",
              "      <td>0.0</td>\n",
              "      <td>0.0</td>\n",
              "      <td>0.0</td>\n",
              "      <td>0.0</td>\n",
              "      <td>0.0</td>\n",
              "      <td>109</td>\n",
              "      <td>0.000000</td>\n",
              "      <td>0</td>\n",
              "      <td>3</td>\n",
              "    </tr>\n",
              "    <tr>\n",
              "      <th>2329</th>\n",
              "      <td>0.0</td>\n",
              "      <td>0.0</td>\n",
              "      <td>0.0</td>\n",
              "      <td>0.0</td>\n",
              "      <td>0.0</td>\n",
              "      <td>0.0</td>\n",
              "      <td>0.0</td>\n",
              "      <td>0.0</td>\n",
              "      <td>0.0</td>\n",
              "      <td>0.0</td>\n",
              "      <td>...</td>\n",
              "      <td>0.0</td>\n",
              "      <td>0.0</td>\n",
              "      <td>0.0</td>\n",
              "      <td>1.0</td>\n",
              "      <td>0.0</td>\n",
              "      <td>0.0</td>\n",
              "      <td>109</td>\n",
              "      <td>0.000000</td>\n",
              "      <td>0</td>\n",
              "      <td>4</td>\n",
              "    </tr>\n",
              "  </tbody>\n",
              "</table>\n",
              "<p>2330 rows × 652 columns</p>\n",
              "</div>"
            ],
            "text/plain": [
              "      rides_previous_648_hour  rides_previous_647_hour  \\\n",
              "0                        19.0                     28.0   \n",
              "1                         1.0                      0.0   \n",
              "2                         2.0                      0.0   \n",
              "3                         3.0                      1.0   \n",
              "4                         3.0                     16.0   \n",
              "...                       ...                      ...   \n",
              "2325                      0.0                      0.0   \n",
              "2326                      0.0                      0.0   \n",
              "2327                      0.0                      0.0   \n",
              "2328                      0.0                      0.0   \n",
              "2329                      0.0                      0.0   \n",
              "\n",
              "      rides_previous_646_hour  rides_previous_645_hour  \\\n",
              "0                        43.0                     33.0   \n",
              "1                         0.0                      0.0   \n",
              "2                         0.0                      0.0   \n",
              "3                         0.0                      0.0   \n",
              "4                        28.0                     21.0   \n",
              "...                       ...                      ...   \n",
              "2325                      0.0                      0.0   \n",
              "2326                      0.0                      0.0   \n",
              "2327                      0.0                      0.0   \n",
              "2328                      0.0                      0.0   \n",
              "2329                      0.0                      0.0   \n",
              "\n",
              "      rides_previous_644_hour  rides_previous_643_hour  \\\n",
              "0                        12.0                      3.0   \n",
              "1                         0.0                      2.0   \n",
              "2                         0.0                      0.0   \n",
              "3                         0.0                      0.0   \n",
              "4                        12.0                      5.0   \n",
              "...                       ...                      ...   \n",
              "2325                      0.0                      0.0   \n",
              "2326                      0.0                      0.0   \n",
              "2327                      0.0                      0.0   \n",
              "2328                      0.0                      0.0   \n",
              "2329                      0.0                      0.0   \n",
              "\n",
              "      rides_previous_642_hour  rides_previous_641_hour  \\\n",
              "0                         2.0                      1.0   \n",
              "1                         1.0                      0.0   \n",
              "2                         3.0                      5.0   \n",
              "3                         1.0                      2.0   \n",
              "4                         4.0                      2.0   \n",
              "...                       ...                      ...   \n",
              "2325                      0.0                      0.0   \n",
              "2326                      0.0                      0.0   \n",
              "2327                      0.0                      0.0   \n",
              "2328                      0.0                      0.0   \n",
              "2329                      0.0                      0.0   \n",
              "\n",
              "      rides_previous_640_hour  rides_previous_639_hour  ...  \\\n",
              "0                         1.0                      1.0  ...   \n",
              "1                         2.0                      0.0  ...   \n",
              "2                         2.0                      3.0  ...   \n",
              "3                         6.0                      2.0  ...   \n",
              "4                         2.0                      3.0  ...   \n",
              "...                       ...                      ...  ...   \n",
              "2325                      0.0                      0.0  ...   \n",
              "2326                      0.0                      0.0  ...   \n",
              "2327                      0.0                      0.0  ...   \n",
              "2328                      0.0                      0.0  ...   \n",
              "2329                      0.0                      0.0  ...   \n",
              "\n",
              "      rides_previous_6_hour  rides_previous_5_hour  rides_previous_4_hour  \\\n",
              "0                       4.0                    5.0                    3.0   \n",
              "1                       5.0                    7.0                    5.0   \n",
              "2                       1.0                    5.0                    2.0   \n",
              "3                       1.0                    1.0                    1.0   \n",
              "4                       2.0                    3.0                    0.0   \n",
              "...                     ...                    ...                    ...   \n",
              "2325                    0.0                    0.0                    0.0   \n",
              "2326                    0.0                    0.0                    0.0   \n",
              "2327                    0.0                    0.0                    0.0   \n",
              "2328                    0.0                    0.0                    0.0   \n",
              "2329                    0.0                    0.0                    0.0   \n",
              "\n",
              "      rides_previous_3_hour  rides_previous_2_hour  rides_previous_1_hour  \\\n",
              "0                       8.0                   18.0                   22.0   \n",
              "1                       8.0                   15.0                   26.0   \n",
              "2                       1.0                    2.0                    0.0   \n",
              "3                       0.0                    0.0                    2.0   \n",
              "4                       5.0                    1.0                    2.0   \n",
              "...                     ...                    ...                    ...   \n",
              "2325                    0.0                    0.0                    0.0   \n",
              "2326                    0.0                    0.0                    0.0   \n",
              "2327                    0.0                    0.0                    0.0   \n",
              "2328                    0.0                    0.0                    0.0   \n",
              "2329                    1.0                    0.0                    0.0   \n",
              "\n",
              "      pickup_location_id  average_rides_last_3_weeks  hour  day_of_week  \n",
              "0                      4                   40.920002     0            5  \n",
              "1                      4                   47.520000     0            6  \n",
              "2                      4                    2.970000     0            0  \n",
              "3                      4                    1.320000     0            1  \n",
              "4                      7                    2.310000     0            5  \n",
              "...                  ...                         ...   ...          ...  \n",
              "2325                  30                    0.000000     0            4  \n",
              "2326                 109                    0.000000     0            1  \n",
              "2327                 109                    0.000000     0            2  \n",
              "2328                 109                    0.000000     0            3  \n",
              "2329                 109                    0.000000     0            4  \n",
              "\n",
              "[2330 rows x 652 columns]"
            ]
          },
          "execution_count": 193,
          "metadata": {},
          "output_type": "execute_result"
        }
      ],
      "source": [
        "add_temporal_features = TemporalFeaturesEngineer()\n",
        "add_temporal_features.fit_transform(X_train)\n"
      ]
    },
    {
      "cell_type": "markdown",
      "metadata": {
        "id": "fat-ZkxzwGsd"
      },
      "source": [
        "Creating a new class, which is inherited from baseestimateor and transformermixin classess.\n",
        "Temporal feature engineering - take the data and create 2 new columns (hours, dayofweek) from the pickuphour column and the retured the dataframe\n",
        "after droping the pickup hour column\n"
      ]
    },
    {
      "cell_type": "code",
      "execution_count": 194,
      "metadata": {
        "id": "EJXMiH6iwGsd"
      },
      "outputs": [],
      "source": [
        "import lightgbm as lgb"
      ]
    },
    {
      "cell_type": "code",
      "execution_count": 195,
      "metadata": {
        "colab": {
          "base_uri": "https://localhost:8080/",
          "height": 264
        },
        "id": "6s0ZVTHywGsd",
        "outputId": "efcec8fb-7206-4cb6-a48c-d15de025d57f"
      },
      "outputs": [
        {
          "data": {
            "text/plain": [
              "Pipeline(steps=[('functiontransformer',\n",
              "                 FunctionTransformer(func=<function average_rides_last_3_weeks at 0x7f82860bb9d0>)),\n",
              "                ('temporalfeaturesengineer', TemporalFeaturesEngineer()),\n",
              "                ('lgbmregressor', LGBMRegressor())])"
            ]
          },
          "execution_count": 195,
          "metadata": {},
          "output_type": "execute_result"
        }
      ],
      "source": [
        "from sklearn.pipeline import make_pipeline\n",
        "\n",
        "pipeline = make_pipeline(\n",
        "    add_feature_average_rides_last_3_weeks,\n",
        "    add_temporal_features,\n",
        "    lgb.LGBMRegressor()\n",
        ")\n",
        "pipeline.fit(X_train, y_train)"
      ]
    },
    {
      "cell_type": "code",
      "execution_count": 196,
      "metadata": {
        "colab": {
          "base_uri": "https://localhost:8080/"
        },
        "id": "6CQNyiUCwGse",
        "outputId": "a9df28ac-b6a5-4006-a766-2f9e50a98a28"
      },
      "outputs": [
        {
          "name": "stdout",
          "output_type": "stream",
          "text": [
            "test_mae=3.9389\n"
          ]
        }
      ],
      "source": [
        "predictions = pipeline.predict(X_test)\n",
        "\n",
        "from sklearn.metrics import mean_absolute_error\n",
        "test_mae = mean_absolute_error(y_test, predictions)\n",
        "print(f'{test_mae=:.4f}')"
      ]
    },
    {
      "cell_type": "markdown",
      "metadata": {
        "id": "XdnhW1krwGsf"
      },
      "source": [
        "#### HYPERPARAMETER TUNING"
      ]
    },
    {
      "cell_type": "code",
      "execution_count": 197,
      "metadata": {
        "id": "SIVQtpBRwGsf"
      },
      "outputs": [],
      "source": [
        "def get_pipeline(**hyperparams) -> Pipeline:      #\n",
        "\n",
        "    # sklearn transform\n",
        "    add_feature_average_rides_last_3_weeks = FunctionTransformer(\n",
        "        average_rides_last_3_weeks, validate=False)\n",
        "\n",
        "    # sklearn transform\n",
        "    add_temporal_features = TemporalFeaturesEngineer()\n",
        "\n",
        "    # sklearn pipeline\n",
        "    return make_pipeline(\n",
        "        add_feature_average_rides_last_3_weeks,\n",
        "        add_temporal_features,\n",
        "        lgb.LGBMRegressor(**hyperparams))"
      ]
    },
    {
      "cell_type": "code",
      "execution_count": 198,
      "metadata": {
        "id": "HBY42Vp7wGsf"
      },
      "outputs": [],
      "source": [
        "X_train_df = pd.DataFrame(X_train)\n",
        "y_train_series = pd.Series(y_train)\n",
        "\n",
        "def objective(trial: optuna.trial.Trial) -> float:\n",
        "    \"\"\"\n",
        "    Given a set of hyper-parameters, it trains a model and computes an average\n",
        "    validation error based on a TimeSeriesSplit\n",
        "    \"\"\"\n",
        "    # pick hyper-parameters\n",
        "    hyperparams = {\n",
        "        \"metric\": 'mae',\n",
        "        \"verbose\": -1,     #showing the programs output, if -1 it wont show any output\n",
        "        \"num_leaves\": trial.suggest_int(\"num_leaves\", 2, 256),\n",
        "        \"feature_fraction\": trial.suggest_float(\"feature_fraction\", 0.2, 1.0),\n",
        "        \"bagging_fraction\": trial.suggest_float(\"bagging_fraction\", 0.2, 1.0),\n",
        "        \"min_child_samples\": trial.suggest_int(\"min_child_samples\", 3, 100),\n",
        "    }\n",
        "\n",
        "\n",
        "    tss = TimeSeriesSplit(n_splits=2)\n",
        "    scores = []\n",
        "    for train_index, val_index in tss.split(X_train_df):\n",
        "\n",
        "        # split data for training and validation\n",
        "        X_train_, X_val_ = X_train_df.iloc[train_index, :], X_train_df.iloc[val_index,:]\n",
        "        y_train_, y_val_ = y_train_series.iloc[train_index], y_train_series.iloc[val_index]\n",
        "\n",
        "        # train the model\n",
        "        pipeline = get_pipeline(**hyperparams)\n",
        "        pipeline.fit(X_train_, y_train_)\n",
        "\n",
        "        # evaluate the model\n",
        "        y_pred = pipeline.predict(X_val_)\n",
        "        mae = mean_absolute_error(y_val_, y_pred)\n",
        "\n",
        "        scores.append(mae)\n",
        "\n",
        "    # Return the mean score\n",
        "    return np.array(scores).mean()"
      ]
    },
    {
      "cell_type": "code",
      "execution_count": 172,
      "metadata": {
        "colab": {
          "base_uri": "https://localhost:8080/"
        },
        "id": "ZZ3EQu7SwGsf",
        "outputId": "dc22f195-2c3f-4753-e531-96a637529c8b"
      },
      "outputs": [
        {
          "name": "stderr",
          "output_type": "stream",
          "text": [
            "[I 2023-09-15 16:35:01,812] A new study created in memory with name: no-name-b5c235b2-d0ba-4d44-b05b-bc7a10781e73\n"
          ]
        },
        {
          "name": "stdout",
          "output_type": "stream",
          "text": [
            "[LightGBM] [Warning] bagging_fraction is set=0.20486677082711627, subsample=1.0 will be ignored. Current value: bagging_fraction=0.20486677082711627\n",
            "[LightGBM] [Warning] feature_fraction is set=0.5053337485480174, colsample_bytree=1.0 will be ignored. Current value: feature_fraction=0.5053337485480174\n",
            "[LightGBM] [Warning] bagging_fraction is set=0.20486677082711627, subsample=1.0 will be ignored. Current value: bagging_fraction=0.20486677082711627\n",
            "[LightGBM] [Warning] feature_fraction is set=0.5053337485480174, colsample_bytree=1.0 will be ignored. Current value: feature_fraction=0.5053337485480174\n"
          ]
        },
        {
          "name": "stderr",
          "output_type": "stream",
          "text": [
            "[I 2023-09-15 16:35:02,745] Trial 0 finished with value: 4.752780103890754 and parameters: {'num_leaves': 196, 'feature_fraction': 0.5053337485480174, 'bagging_fraction': 0.20486677082711627, 'min_child_samples': 95}. Best is trial 0 with value: 4.752780103890754.\n"
          ]
        },
        {
          "name": "stdout",
          "output_type": "stream",
          "text": [
            "[LightGBM] [Warning] bagging_fraction is set=0.7304617342123014, subsample=1.0 will be ignored. Current value: bagging_fraction=0.7304617342123014\n",
            "[LightGBM] [Warning] feature_fraction is set=0.7636848652245662, colsample_bytree=1.0 will be ignored. Current value: feature_fraction=0.7636848652245662\n",
            "[LightGBM] [Warning] bagging_fraction is set=0.7304617342123014, subsample=1.0 will be ignored. Current value: bagging_fraction=0.7304617342123014\n",
            "[LightGBM] [Warning] feature_fraction is set=0.7636848652245662, colsample_bytree=1.0 will be ignored. Current value: feature_fraction=0.7636848652245662\n"
          ]
        },
        {
          "name": "stderr",
          "output_type": "stream",
          "text": [
            "[I 2023-09-15 16:35:04,952] Trial 1 finished with value: 3.0231948354784848 and parameters: {'num_leaves': 67, 'feature_fraction': 0.7636848652245662, 'bagging_fraction': 0.7304617342123014, 'min_child_samples': 26}. Best is trial 1 with value: 3.0231948354784848.\n"
          ]
        },
        {
          "name": "stdout",
          "output_type": "stream",
          "text": [
            "[LightGBM] [Warning] bagging_fraction is set=0.847562391244681, subsample=1.0 will be ignored. Current value: bagging_fraction=0.847562391244681\n",
            "[LightGBM] [Warning] feature_fraction is set=0.6949816383985841, colsample_bytree=1.0 will be ignored. Current value: feature_fraction=0.6949816383985841\n",
            "[LightGBM] [Warning] bagging_fraction is set=0.847562391244681, subsample=1.0 will be ignored. Current value: bagging_fraction=0.847562391244681\n",
            "[LightGBM] [Warning] feature_fraction is set=0.6949816383985841, colsample_bytree=1.0 will be ignored. Current value: feature_fraction=0.6949816383985841\n"
          ]
        },
        {
          "name": "stderr",
          "output_type": "stream",
          "text": [
            "[I 2023-09-15 16:35:06,473] Trial 2 finished with value: 3.203902178821899 and parameters: {'num_leaves': 75, 'feature_fraction': 0.6949816383985841, 'bagging_fraction': 0.847562391244681, 'min_child_samples': 33}. Best is trial 1 with value: 3.0231948354784848.\n"
          ]
        },
        {
          "name": "stdout",
          "output_type": "stream",
          "text": [
            "[LightGBM] [Warning] bagging_fraction is set=0.30256930590574865, subsample=1.0 will be ignored. Current value: bagging_fraction=0.30256930590574865\n",
            "[LightGBM] [Warning] feature_fraction is set=0.47090552628003773, colsample_bytree=1.0 will be ignored. Current value: feature_fraction=0.47090552628003773\n",
            "[LightGBM] [Warning] bagging_fraction is set=0.30256930590574865, subsample=1.0 will be ignored. Current value: bagging_fraction=0.30256930590574865\n",
            "[LightGBM] [Warning] feature_fraction is set=0.47090552628003773, colsample_bytree=1.0 will be ignored. Current value: feature_fraction=0.47090552628003773\n"
          ]
        },
        {
          "name": "stderr",
          "output_type": "stream",
          "text": [
            "[I 2023-09-15 16:35:07,625] Trial 3 finished with value: 2.8656888323055947 and parameters: {'num_leaves': 248, 'feature_fraction': 0.47090552628003773, 'bagging_fraction': 0.30256930590574865, 'min_child_samples': 61}. Best is trial 3 with value: 2.8656888323055947.\n"
          ]
        },
        {
          "name": "stdout",
          "output_type": "stream",
          "text": [
            "[LightGBM] [Warning] bagging_fraction is set=0.6544223862265155, subsample=1.0 will be ignored. Current value: bagging_fraction=0.6544223862265155\n",
            "[LightGBM] [Warning] feature_fraction is set=0.44911798381454054, colsample_bytree=1.0 will be ignored. Current value: feature_fraction=0.44911798381454054\n",
            "[LightGBM] [Warning] bagging_fraction is set=0.6544223862265155, subsample=1.0 will be ignored. Current value: bagging_fraction=0.6544223862265155\n",
            "[LightGBM] [Warning] feature_fraction is set=0.44911798381454054, colsample_bytree=1.0 will be ignored. Current value: feature_fraction=0.44911798381454054\n"
          ]
        },
        {
          "name": "stderr",
          "output_type": "stream",
          "text": [
            "[I 2023-09-15 16:35:08,456] Trial 4 finished with value: 2.929740858662717 and parameters: {'num_leaves': 60, 'feature_fraction': 0.44911798381454054, 'bagging_fraction': 0.6544223862265155, 'min_child_samples': 61}. Best is trial 3 with value: 2.8656888323055947.\n"
          ]
        }
      ],
      "source": [
        "study = optuna.create_study(direction=\"minimize\")\n",
        "study.optimize(objective, n_trials=5) #\n"
      ]
    },
    {
      "cell_type": "code",
      "execution_count": 173,
      "metadata": {
        "colab": {
          "base_uri": "https://localhost:8080/"
        },
        "id": "3zGeIhRfwGsf",
        "outputId": "ec493953-963e-4da4-f5fe-8cfb8efcb698"
      },
      "outputs": [
        {
          "name": "stdout",
          "output_type": "stream",
          "text": [
            "best_params={'num_leaves': 248, 'feature_fraction': 0.47090552628003773, 'bagging_fraction': 0.30256930590574865, 'min_child_samples': 61}\n"
          ]
        }
      ],
      "source": [
        "best_params = study.best_trial.params\n",
        "print(f'{best_params=}')"
      ]
    },
    {
      "cell_type": "code",
      "execution_count": 174,
      "metadata": {
        "colab": {
          "base_uri": "https://localhost:8080/",
          "height": 1000
        },
        "id": "JOrR6z28wGsf",
        "outputId": "5a0b1cfb-0a85-497b-ac10-f6d978d586e0"
      },
      "outputs": [
        {
          "name": "stdout",
          "output_type": "stream",
          "text": [
            "[LightGBM] [Warning] bagging_fraction is set=0.30256930590574865, subsample=1.0 will be ignored. Current value: bagging_fraction=0.30256930590574865\n",
            "[LightGBM] [Warning] feature_fraction is set=0.47090552628003773, colsample_bytree=1.0 will be ignored. Current value: feature_fraction=0.47090552628003773\n"
          ]
        },
        {
          "data": {
            "text/plain": [
              "Pipeline(steps=[('functiontransformer',\n",
              "                 FunctionTransformer(func=<function average_rides_last_3_weeks at 0x7f8282a1c310>)),\n",
              "                ('temporalfeaturesengineer', TemporalFeaturesEngineer()),\n",
              "                ('lgbmregressor',\n",
              "                 LGBMRegressor(bagging_fraction=0.30256930590574865,\n",
              "                               feature_fraction=0.47090552628003773,\n",
              "                               min_child_samples=61, num_leaves=248))])"
            ]
          },
          "execution_count": 174,
          "metadata": {},
          "output_type": "execute_result"
        }
      ],
      "source": [
        "pipeline = get_pipeline(**best_params)\n",
        "pipeline.fit(X_train, y_train)"
      ]
    },
    {
      "cell_type": "code",
      "execution_count": 175,
      "metadata": {
        "colab": {
          "base_uri": "https://localhost:8080/"
        },
        "id": "wPGdU2f_wGsf",
        "outputId": "d6edeb12-0c32-4c79-b982-65d38f1b96ae"
      },
      "outputs": [
        {
          "name": "stdout",
          "output_type": "stream",
          "text": [
            "test_mae=4.2673\n"
          ]
        }
      ],
      "source": [
        "predictions = pipeline.predict(X_test)\n",
        "test_mae = mean_absolute_error(y_test, predictions)\n",
        "print(f'{test_mae=:.4f}')"
      ]
    },
    {
      "cell_type": "code",
      "execution_count": 176,
      "metadata": {
        "id": "oDS-N7FcwGsg"
      },
      "outputs": [],
      "source": [
        "import plotly.express as px\n",
        "from typing import Optional, List\n",
        "from datetime import timedelta\n",
        "\n",
        "\n",
        "def plot_one_sample(\n",
        "    example_id: int,\n",
        "    features: pd.DataFrame,\n",
        "    targets: Optional[pd.Series] = None,\n",
        "    predictions: Optional[pd.Series] = None\n",
        "):\n",
        "    \"\"\"\"\"\"\n",
        "    features_ = features.iloc[example_id]\n",
        "\n",
        "    if targets is not None:\n",
        "        target_ = targets.iloc[example_id]\n",
        "    else:\n",
        "        target_ = None\n",
        "\n",
        "    ts_columns = [c for c in features.columns if c.startswith('rides_previous_')]\n",
        "    ts_values = [features_[c] for c in ts_columns] + [target_]\n",
        "    ts_dates = pd.date_range(\n",
        "        features_['pickup_hour'] - timedelta(hours=len(ts_columns)),\n",
        "        features_['pickup_hour'],\n",
        "        freq='H'\n",
        "    )\n",
        "\n",
        "    # line plot with past values\n",
        "    title = f'Pick up hour={features_[\"pickup_hour\"]}, location_id={features_[\"pickup_location_id\"]}'\n",
        "    fig = px.line(\n",
        "        x=ts_dates, y=ts_values,\n",
        "        template='plotly_dark',\n",
        "        title=title\n",
        "    )\n",
        "\n",
        "    if targets is not None:\n",
        "        # green dot for the value we wanna predict\n",
        "        fig.add_scatter(x=ts_dates[-1:], y=[target_],\n",
        "                        line_color='green',\n",
        "                        mode='markers', marker_size=10, name='actual value')\n",
        "\n",
        "    if predictions is not None:\n",
        "        # big red X for the predicted value, if passed\n",
        "        prediction_ = predictions.iloc[example_id]\n",
        "        fig.add_scatter(x=ts_dates[-1:], y=[prediction_],\n",
        "                        line_color='red',\n",
        "                        mode='markers', marker_symbol='x', marker_size=15,\n",
        "                        name='prediction')\n",
        "    return fig"
      ]
    },
    {
      "cell_type": "code",
      "execution_count": 177,
      "metadata": {
        "colab": {
          "base_uri": "https://localhost:8080/",
          "height": 542
        },
        "id": "fV0IcckHwGsg",
        "outputId": "62e8bc48-06b2-4ab7-8d4b-8c0a538921d0"
      },
      "outputs": [
        {
          "data": {
            "application/vnd.plotly.v1+json": {
              "config": {
                "plotlyServerURL": "https://plot.ly"
              },
              "data": [
                {
                  "hovertemplate": "x=%{x}<br>y=%{y}<extra></extra>",
                  "legendgroup": "",
                  "line": {
                    "color": "#636efa",
                    "dash": "solid"
                  },
                  "mode": "lines",
                  "name": "",
                  "orientation": "v",
                  "showlegend": false,
                  "type": "scatter",
                  "x": [
                    "2023-04-02T00:00:00",
                    "2023-04-02T01:00:00",
                    "2023-04-02T02:00:00",
                    "2023-04-02T03:00:00",
                    "2023-04-02T04:00:00",
                    "2023-04-02T05:00:00",
                    "2023-04-02T06:00:00",
                    "2023-04-02T07:00:00",
                    "2023-04-02T08:00:00",
                    "2023-04-02T09:00:00",
                    "2023-04-02T10:00:00",
                    "2023-04-02T11:00:00",
                    "2023-04-02T12:00:00",
                    "2023-04-02T13:00:00",
                    "2023-04-02T14:00:00",
                    "2023-04-02T15:00:00",
                    "2023-04-02T16:00:00",
                    "2023-04-02T17:00:00",
                    "2023-04-02T18:00:00",
                    "2023-04-02T19:00:00",
                    "2023-04-02T20:00:00",
                    "2023-04-02T21:00:00",
                    "2023-04-02T22:00:00",
                    "2023-04-02T23:00:00",
                    "2023-04-03T00:00:00",
                    "2023-04-03T01:00:00",
                    "2023-04-03T02:00:00",
                    "2023-04-03T03:00:00",
                    "2023-04-03T04:00:00",
                    "2023-04-03T05:00:00",
                    "2023-04-03T06:00:00",
                    "2023-04-03T07:00:00",
                    "2023-04-03T08:00:00",
                    "2023-04-03T09:00:00",
                    "2023-04-03T10:00:00",
                    "2023-04-03T11:00:00",
                    "2023-04-03T12:00:00",
                    "2023-04-03T13:00:00",
                    "2023-04-03T14:00:00",
                    "2023-04-03T15:00:00",
                    "2023-04-03T16:00:00",
                    "2023-04-03T17:00:00",
                    "2023-04-03T18:00:00",
                    "2023-04-03T19:00:00",
                    "2023-04-03T20:00:00",
                    "2023-04-03T21:00:00",
                    "2023-04-03T22:00:00",
                    "2023-04-03T23:00:00",
                    "2023-04-04T00:00:00",
                    "2023-04-04T01:00:00",
                    "2023-04-04T02:00:00",
                    "2023-04-04T03:00:00",
                    "2023-04-04T04:00:00",
                    "2023-04-04T05:00:00",
                    "2023-04-04T06:00:00",
                    "2023-04-04T07:00:00",
                    "2023-04-04T08:00:00",
                    "2023-04-04T09:00:00",
                    "2023-04-04T10:00:00",
                    "2023-04-04T11:00:00",
                    "2023-04-04T12:00:00",
                    "2023-04-04T13:00:00",
                    "2023-04-04T14:00:00",
                    "2023-04-04T15:00:00",
                    "2023-04-04T16:00:00",
                    "2023-04-04T17:00:00",
                    "2023-04-04T18:00:00",
                    "2023-04-04T19:00:00",
                    "2023-04-04T20:00:00",
                    "2023-04-04T21:00:00",
                    "2023-04-04T22:00:00",
                    "2023-04-04T23:00:00",
                    "2023-04-05T00:00:00",
                    "2023-04-05T01:00:00",
                    "2023-04-05T02:00:00",
                    "2023-04-05T03:00:00",
                    "2023-04-05T04:00:00",
                    "2023-04-05T05:00:00",
                    "2023-04-05T06:00:00",
                    "2023-04-05T07:00:00",
                    "2023-04-05T08:00:00",
                    "2023-04-05T09:00:00",
                    "2023-04-05T10:00:00",
                    "2023-04-05T11:00:00",
                    "2023-04-05T12:00:00",
                    "2023-04-05T13:00:00",
                    "2023-04-05T14:00:00",
                    "2023-04-05T15:00:00",
                    "2023-04-05T16:00:00",
                    "2023-04-05T17:00:00",
                    "2023-04-05T18:00:00",
                    "2023-04-05T19:00:00",
                    "2023-04-05T20:00:00",
                    "2023-04-05T21:00:00",
                    "2023-04-05T22:00:00",
                    "2023-04-05T23:00:00",
                    "2023-04-06T00:00:00",
                    "2023-04-06T01:00:00",
                    "2023-04-06T02:00:00",
                    "2023-04-06T03:00:00",
                    "2023-04-06T04:00:00",
                    "2023-04-06T05:00:00",
                    "2023-04-06T06:00:00",
                    "2023-04-06T07:00:00",
                    "2023-04-06T08:00:00",
                    "2023-04-06T09:00:00",
                    "2023-04-06T10:00:00",
                    "2023-04-06T11:00:00",
                    "2023-04-06T12:00:00",
                    "2023-04-06T13:00:00",
                    "2023-04-06T14:00:00",
                    "2023-04-06T15:00:00",
                    "2023-04-06T16:00:00",
                    "2023-04-06T17:00:00",
                    "2023-04-06T18:00:00",
                    "2023-04-06T19:00:00",
                    "2023-04-06T20:00:00",
                    "2023-04-06T21:00:00",
                    "2023-04-06T22:00:00",
                    "2023-04-06T23:00:00",
                    "2023-04-07T00:00:00",
                    "2023-04-07T01:00:00",
                    "2023-04-07T02:00:00",
                    "2023-04-07T03:00:00",
                    "2023-04-07T04:00:00",
                    "2023-04-07T05:00:00",
                    "2023-04-07T06:00:00",
                    "2023-04-07T07:00:00",
                    "2023-04-07T08:00:00",
                    "2023-04-07T09:00:00",
                    "2023-04-07T10:00:00",
                    "2023-04-07T11:00:00",
                    "2023-04-07T12:00:00",
                    "2023-04-07T13:00:00",
                    "2023-04-07T14:00:00",
                    "2023-04-07T15:00:00",
                    "2023-04-07T16:00:00",
                    "2023-04-07T17:00:00",
                    "2023-04-07T18:00:00",
                    "2023-04-07T19:00:00",
                    "2023-04-07T20:00:00",
                    "2023-04-07T21:00:00",
                    "2023-04-07T22:00:00",
                    "2023-04-07T23:00:00",
                    "2023-04-08T00:00:00",
                    "2023-04-08T01:00:00",
                    "2023-04-08T02:00:00",
                    "2023-04-08T03:00:00",
                    "2023-04-08T04:00:00",
                    "2023-04-08T05:00:00",
                    "2023-04-08T06:00:00",
                    "2023-04-08T07:00:00",
                    "2023-04-08T08:00:00",
                    "2023-04-08T09:00:00",
                    "2023-04-08T10:00:00",
                    "2023-04-08T11:00:00",
                    "2023-04-08T12:00:00",
                    "2023-04-08T13:00:00",
                    "2023-04-08T14:00:00",
                    "2023-04-08T15:00:00",
                    "2023-04-08T16:00:00",
                    "2023-04-08T17:00:00",
                    "2023-04-08T18:00:00",
                    "2023-04-08T19:00:00",
                    "2023-04-08T20:00:00",
                    "2023-04-08T21:00:00",
                    "2023-04-08T22:00:00",
                    "2023-04-08T23:00:00",
                    "2023-04-09T00:00:00",
                    "2023-04-09T01:00:00",
                    "2023-04-09T02:00:00",
                    "2023-04-09T03:00:00",
                    "2023-04-09T04:00:00",
                    "2023-04-09T05:00:00",
                    "2023-04-09T06:00:00",
                    "2023-04-09T07:00:00",
                    "2023-04-09T08:00:00",
                    "2023-04-09T09:00:00",
                    "2023-04-09T10:00:00",
                    "2023-04-09T11:00:00",
                    "2023-04-09T12:00:00",
                    "2023-04-09T13:00:00",
                    "2023-04-09T14:00:00",
                    "2023-04-09T15:00:00",
                    "2023-04-09T16:00:00",
                    "2023-04-09T17:00:00",
                    "2023-04-09T18:00:00",
                    "2023-04-09T19:00:00",
                    "2023-04-09T20:00:00",
                    "2023-04-09T21:00:00",
                    "2023-04-09T22:00:00",
                    "2023-04-09T23:00:00",
                    "2023-04-10T00:00:00",
                    "2023-04-10T01:00:00",
                    "2023-04-10T02:00:00",
                    "2023-04-10T03:00:00",
                    "2023-04-10T04:00:00",
                    "2023-04-10T05:00:00",
                    "2023-04-10T06:00:00",
                    "2023-04-10T07:00:00",
                    "2023-04-10T08:00:00",
                    "2023-04-10T09:00:00",
                    "2023-04-10T10:00:00",
                    "2023-04-10T11:00:00",
                    "2023-04-10T12:00:00",
                    "2023-04-10T13:00:00",
                    "2023-04-10T14:00:00",
                    "2023-04-10T15:00:00",
                    "2023-04-10T16:00:00",
                    "2023-04-10T17:00:00",
                    "2023-04-10T18:00:00",
                    "2023-04-10T19:00:00",
                    "2023-04-10T20:00:00",
                    "2023-04-10T21:00:00",
                    "2023-04-10T22:00:00",
                    "2023-04-10T23:00:00",
                    "2023-04-11T00:00:00",
                    "2023-04-11T01:00:00",
                    "2023-04-11T02:00:00",
                    "2023-04-11T03:00:00",
                    "2023-04-11T04:00:00",
                    "2023-04-11T05:00:00",
                    "2023-04-11T06:00:00",
                    "2023-04-11T07:00:00",
                    "2023-04-11T08:00:00",
                    "2023-04-11T09:00:00",
                    "2023-04-11T10:00:00",
                    "2023-04-11T11:00:00",
                    "2023-04-11T12:00:00",
                    "2023-04-11T13:00:00",
                    "2023-04-11T14:00:00",
                    "2023-04-11T15:00:00",
                    "2023-04-11T16:00:00",
                    "2023-04-11T17:00:00",
                    "2023-04-11T18:00:00",
                    "2023-04-11T19:00:00",
                    "2023-04-11T20:00:00",
                    "2023-04-11T21:00:00",
                    "2023-04-11T22:00:00",
                    "2023-04-11T23:00:00",
                    "2023-04-12T00:00:00",
                    "2023-04-12T01:00:00",
                    "2023-04-12T02:00:00",
                    "2023-04-12T03:00:00",
                    "2023-04-12T04:00:00",
                    "2023-04-12T05:00:00",
                    "2023-04-12T06:00:00",
                    "2023-04-12T07:00:00",
                    "2023-04-12T08:00:00",
                    "2023-04-12T09:00:00",
                    "2023-04-12T10:00:00",
                    "2023-04-12T11:00:00",
                    "2023-04-12T12:00:00",
                    "2023-04-12T13:00:00",
                    "2023-04-12T14:00:00",
                    "2023-04-12T15:00:00",
                    "2023-04-12T16:00:00",
                    "2023-04-12T17:00:00",
                    "2023-04-12T18:00:00",
                    "2023-04-12T19:00:00",
                    "2023-04-12T20:00:00",
                    "2023-04-12T21:00:00",
                    "2023-04-12T22:00:00",
                    "2023-04-12T23:00:00",
                    "2023-04-13T00:00:00",
                    "2023-04-13T01:00:00",
                    "2023-04-13T02:00:00",
                    "2023-04-13T03:00:00",
                    "2023-04-13T04:00:00",
                    "2023-04-13T05:00:00",
                    "2023-04-13T06:00:00",
                    "2023-04-13T07:00:00",
                    "2023-04-13T08:00:00",
                    "2023-04-13T09:00:00",
                    "2023-04-13T10:00:00",
                    "2023-04-13T11:00:00",
                    "2023-04-13T12:00:00",
                    "2023-04-13T13:00:00",
                    "2023-04-13T14:00:00",
                    "2023-04-13T15:00:00",
                    "2023-04-13T16:00:00",
                    "2023-04-13T17:00:00",
                    "2023-04-13T18:00:00",
                    "2023-04-13T19:00:00",
                    "2023-04-13T20:00:00",
                    "2023-04-13T21:00:00",
                    "2023-04-13T22:00:00",
                    "2023-04-13T23:00:00",
                    "2023-04-14T00:00:00",
                    "2023-04-14T01:00:00",
                    "2023-04-14T02:00:00",
                    "2023-04-14T03:00:00",
                    "2023-04-14T04:00:00",
                    "2023-04-14T05:00:00",
                    "2023-04-14T06:00:00",
                    "2023-04-14T07:00:00",
                    "2023-04-14T08:00:00",
                    "2023-04-14T09:00:00",
                    "2023-04-14T10:00:00",
                    "2023-04-14T11:00:00",
                    "2023-04-14T12:00:00",
                    "2023-04-14T13:00:00",
                    "2023-04-14T14:00:00",
                    "2023-04-14T15:00:00",
                    "2023-04-14T16:00:00",
                    "2023-04-14T17:00:00",
                    "2023-04-14T18:00:00",
                    "2023-04-14T19:00:00",
                    "2023-04-14T20:00:00",
                    "2023-04-14T21:00:00",
                    "2023-04-14T22:00:00",
                    "2023-04-14T23:00:00",
                    "2023-04-15T00:00:00",
                    "2023-04-15T01:00:00",
                    "2023-04-15T02:00:00",
                    "2023-04-15T03:00:00",
                    "2023-04-15T04:00:00",
                    "2023-04-15T05:00:00",
                    "2023-04-15T06:00:00",
                    "2023-04-15T07:00:00",
                    "2023-04-15T08:00:00",
                    "2023-04-15T09:00:00",
                    "2023-04-15T10:00:00",
                    "2023-04-15T11:00:00",
                    "2023-04-15T12:00:00",
                    "2023-04-15T13:00:00",
                    "2023-04-15T14:00:00",
                    "2023-04-15T15:00:00",
                    "2023-04-15T16:00:00",
                    "2023-04-15T17:00:00",
                    "2023-04-15T18:00:00",
                    "2023-04-15T19:00:00",
                    "2023-04-15T20:00:00",
                    "2023-04-15T21:00:00",
                    "2023-04-15T22:00:00",
                    "2023-04-15T23:00:00",
                    "2023-04-16T00:00:00",
                    "2023-04-16T01:00:00",
                    "2023-04-16T02:00:00",
                    "2023-04-16T03:00:00",
                    "2023-04-16T04:00:00",
                    "2023-04-16T05:00:00",
                    "2023-04-16T06:00:00",
                    "2023-04-16T07:00:00",
                    "2023-04-16T08:00:00",
                    "2023-04-16T09:00:00",
                    "2023-04-16T10:00:00",
                    "2023-04-16T11:00:00",
                    "2023-04-16T12:00:00",
                    "2023-04-16T13:00:00",
                    "2023-04-16T14:00:00",
                    "2023-04-16T15:00:00",
                    "2023-04-16T16:00:00",
                    "2023-04-16T17:00:00",
                    "2023-04-16T18:00:00",
                    "2023-04-16T19:00:00",
                    "2023-04-16T20:00:00",
                    "2023-04-16T21:00:00",
                    "2023-04-16T22:00:00",
                    "2023-04-16T23:00:00",
                    "2023-04-17T00:00:00",
                    "2023-04-17T01:00:00",
                    "2023-04-17T02:00:00",
                    "2023-04-17T03:00:00",
                    "2023-04-17T04:00:00",
                    "2023-04-17T05:00:00",
                    "2023-04-17T06:00:00",
                    "2023-04-17T07:00:00",
                    "2023-04-17T08:00:00",
                    "2023-04-17T09:00:00",
                    "2023-04-17T10:00:00",
                    "2023-04-17T11:00:00",
                    "2023-04-17T12:00:00",
                    "2023-04-17T13:00:00",
                    "2023-04-17T14:00:00",
                    "2023-04-17T15:00:00",
                    "2023-04-17T16:00:00",
                    "2023-04-17T17:00:00",
                    "2023-04-17T18:00:00",
                    "2023-04-17T19:00:00",
                    "2023-04-17T20:00:00",
                    "2023-04-17T21:00:00",
                    "2023-04-17T22:00:00",
                    "2023-04-17T23:00:00",
                    "2023-04-18T00:00:00",
                    "2023-04-18T01:00:00",
                    "2023-04-18T02:00:00",
                    "2023-04-18T03:00:00",
                    "2023-04-18T04:00:00",
                    "2023-04-18T05:00:00",
                    "2023-04-18T06:00:00",
                    "2023-04-18T07:00:00",
                    "2023-04-18T08:00:00",
                    "2023-04-18T09:00:00",
                    "2023-04-18T10:00:00",
                    "2023-04-18T11:00:00",
                    "2023-04-18T12:00:00",
                    "2023-04-18T13:00:00",
                    "2023-04-18T14:00:00",
                    "2023-04-18T15:00:00",
                    "2023-04-18T16:00:00",
                    "2023-04-18T17:00:00",
                    "2023-04-18T18:00:00",
                    "2023-04-18T19:00:00",
                    "2023-04-18T20:00:00",
                    "2023-04-18T21:00:00",
                    "2023-04-18T22:00:00",
                    "2023-04-18T23:00:00",
                    "2023-04-19T00:00:00",
                    "2023-04-19T01:00:00",
                    "2023-04-19T02:00:00",
                    "2023-04-19T03:00:00",
                    "2023-04-19T04:00:00",
                    "2023-04-19T05:00:00",
                    "2023-04-19T06:00:00",
                    "2023-04-19T07:00:00",
                    "2023-04-19T08:00:00",
                    "2023-04-19T09:00:00",
                    "2023-04-19T10:00:00",
                    "2023-04-19T11:00:00",
                    "2023-04-19T12:00:00",
                    "2023-04-19T13:00:00",
                    "2023-04-19T14:00:00",
                    "2023-04-19T15:00:00",
                    "2023-04-19T16:00:00",
                    "2023-04-19T17:00:00",
                    "2023-04-19T18:00:00",
                    "2023-04-19T19:00:00",
                    "2023-04-19T20:00:00",
                    "2023-04-19T21:00:00",
                    "2023-04-19T22:00:00",
                    "2023-04-19T23:00:00",
                    "2023-04-20T00:00:00",
                    "2023-04-20T01:00:00",
                    "2023-04-20T02:00:00",
                    "2023-04-20T03:00:00",
                    "2023-04-20T04:00:00",
                    "2023-04-20T05:00:00",
                    "2023-04-20T06:00:00",
                    "2023-04-20T07:00:00",
                    "2023-04-20T08:00:00",
                    "2023-04-20T09:00:00",
                    "2023-04-20T10:00:00",
                    "2023-04-20T11:00:00",
                    "2023-04-20T12:00:00",
                    "2023-04-20T13:00:00",
                    "2023-04-20T14:00:00",
                    "2023-04-20T15:00:00",
                    "2023-04-20T16:00:00",
                    "2023-04-20T17:00:00",
                    "2023-04-20T18:00:00",
                    "2023-04-20T19:00:00",
                    "2023-04-20T20:00:00",
                    "2023-04-20T21:00:00",
                    "2023-04-20T22:00:00",
                    "2023-04-20T23:00:00",
                    "2023-04-21T00:00:00",
                    "2023-04-21T01:00:00",
                    "2023-04-21T02:00:00",
                    "2023-04-21T03:00:00",
                    "2023-04-21T04:00:00",
                    "2023-04-21T05:00:00",
                    "2023-04-21T06:00:00",
                    "2023-04-21T07:00:00",
                    "2023-04-21T08:00:00",
                    "2023-04-21T09:00:00",
                    "2023-04-21T10:00:00",
                    "2023-04-21T11:00:00",
                    "2023-04-21T12:00:00",
                    "2023-04-21T13:00:00",
                    "2023-04-21T14:00:00",
                    "2023-04-21T15:00:00",
                    "2023-04-21T16:00:00",
                    "2023-04-21T17:00:00",
                    "2023-04-21T18:00:00",
                    "2023-04-21T19:00:00",
                    "2023-04-21T20:00:00",
                    "2023-04-21T21:00:00",
                    "2023-04-21T22:00:00",
                    "2023-04-21T23:00:00",
                    "2023-04-22T00:00:00",
                    "2023-04-22T01:00:00",
                    "2023-04-22T02:00:00",
                    "2023-04-22T03:00:00",
                    "2023-04-22T04:00:00",
                    "2023-04-22T05:00:00",
                    "2023-04-22T06:00:00",
                    "2023-04-22T07:00:00",
                    "2023-04-22T08:00:00",
                    "2023-04-22T09:00:00",
                    "2023-04-22T10:00:00",
                    "2023-04-22T11:00:00",
                    "2023-04-22T12:00:00",
                    "2023-04-22T13:00:00",
                    "2023-04-22T14:00:00",
                    "2023-04-22T15:00:00",
                    "2023-04-22T16:00:00",
                    "2023-04-22T17:00:00",
                    "2023-04-22T18:00:00",
                    "2023-04-22T19:00:00",
                    "2023-04-22T20:00:00",
                    "2023-04-22T21:00:00",
                    "2023-04-22T22:00:00",
                    "2023-04-22T23:00:00",
                    "2023-04-23T00:00:00",
                    "2023-04-23T01:00:00",
                    "2023-04-23T02:00:00",
                    "2023-04-23T03:00:00",
                    "2023-04-23T04:00:00",
                    "2023-04-23T05:00:00",
                    "2023-04-23T06:00:00",
                    "2023-04-23T07:00:00",
                    "2023-04-23T08:00:00",
                    "2023-04-23T09:00:00",
                    "2023-04-23T10:00:00",
                    "2023-04-23T11:00:00",
                    "2023-04-23T12:00:00",
                    "2023-04-23T13:00:00",
                    "2023-04-23T14:00:00",
                    "2023-04-23T15:00:00",
                    "2023-04-23T16:00:00",
                    "2023-04-23T17:00:00",
                    "2023-04-23T18:00:00",
                    "2023-04-23T19:00:00",
                    "2023-04-23T20:00:00",
                    "2023-04-23T21:00:00",
                    "2023-04-23T22:00:00",
                    "2023-04-23T23:00:00",
                    "2023-04-24T00:00:00",
                    "2023-04-24T01:00:00",
                    "2023-04-24T02:00:00",
                    "2023-04-24T03:00:00",
                    "2023-04-24T04:00:00",
                    "2023-04-24T05:00:00",
                    "2023-04-24T06:00:00",
                    "2023-04-24T07:00:00",
                    "2023-04-24T08:00:00",
                    "2023-04-24T09:00:00",
                    "2023-04-24T10:00:00",
                    "2023-04-24T11:00:00",
                    "2023-04-24T12:00:00",
                    "2023-04-24T13:00:00",
                    "2023-04-24T14:00:00",
                    "2023-04-24T15:00:00",
                    "2023-04-24T16:00:00",
                    "2023-04-24T17:00:00",
                    "2023-04-24T18:00:00",
                    "2023-04-24T19:00:00",
                    "2023-04-24T20:00:00",
                    "2023-04-24T21:00:00",
                    "2023-04-24T22:00:00",
                    "2023-04-24T23:00:00",
                    "2023-04-25T00:00:00",
                    "2023-04-25T01:00:00",
                    "2023-04-25T02:00:00",
                    "2023-04-25T03:00:00",
                    "2023-04-25T04:00:00",
                    "2023-04-25T05:00:00",
                    "2023-04-25T06:00:00",
                    "2023-04-25T07:00:00",
                    "2023-04-25T08:00:00",
                    "2023-04-25T09:00:00",
                    "2023-04-25T10:00:00",
                    "2023-04-25T11:00:00",
                    "2023-04-25T12:00:00",
                    "2023-04-25T13:00:00",
                    "2023-04-25T14:00:00",
                    "2023-04-25T15:00:00",
                    "2023-04-25T16:00:00",
                    "2023-04-25T17:00:00",
                    "2023-04-25T18:00:00",
                    "2023-04-25T19:00:00",
                    "2023-04-25T20:00:00",
                    "2023-04-25T21:00:00",
                    "2023-04-25T22:00:00",
                    "2023-04-25T23:00:00",
                    "2023-04-26T00:00:00",
                    "2023-04-26T01:00:00",
                    "2023-04-26T02:00:00",
                    "2023-04-26T03:00:00",
                    "2023-04-26T04:00:00",
                    "2023-04-26T05:00:00",
                    "2023-04-26T06:00:00",
                    "2023-04-26T07:00:00",
                    "2023-04-26T08:00:00",
                    "2023-04-26T09:00:00",
                    "2023-04-26T10:00:00",
                    "2023-04-26T11:00:00",
                    "2023-04-26T12:00:00",
                    "2023-04-26T13:00:00",
                    "2023-04-26T14:00:00",
                    "2023-04-26T15:00:00",
                    "2023-04-26T16:00:00",
                    "2023-04-26T17:00:00",
                    "2023-04-26T18:00:00",
                    "2023-04-26T19:00:00",
                    "2023-04-26T20:00:00",
                    "2023-04-26T21:00:00",
                    "2023-04-26T22:00:00",
                    "2023-04-26T23:00:00",
                    "2023-04-27T00:00:00",
                    "2023-04-27T01:00:00",
                    "2023-04-27T02:00:00",
                    "2023-04-27T03:00:00",
                    "2023-04-27T04:00:00",
                    "2023-04-27T05:00:00",
                    "2023-04-27T06:00:00",
                    "2023-04-27T07:00:00",
                    "2023-04-27T08:00:00",
                    "2023-04-27T09:00:00",
                    "2023-04-27T10:00:00",
                    "2023-04-27T11:00:00",
                    "2023-04-27T12:00:00",
                    "2023-04-27T13:00:00",
                    "2023-04-27T14:00:00",
                    "2023-04-27T15:00:00",
                    "2023-04-27T16:00:00",
                    "2023-04-27T17:00:00",
                    "2023-04-27T18:00:00",
                    "2023-04-27T19:00:00",
                    "2023-04-27T20:00:00",
                    "2023-04-27T21:00:00",
                    "2023-04-27T22:00:00",
                    "2023-04-27T23:00:00",
                    "2023-04-28T00:00:00",
                    "2023-04-28T01:00:00",
                    "2023-04-28T02:00:00",
                    "2023-04-28T03:00:00",
                    "2023-04-28T04:00:00",
                    "2023-04-28T05:00:00",
                    "2023-04-28T06:00:00",
                    "2023-04-28T07:00:00",
                    "2023-04-28T08:00:00",
                    "2023-04-28T09:00:00",
                    "2023-04-28T10:00:00",
                    "2023-04-28T11:00:00",
                    "2023-04-28T12:00:00",
                    "2023-04-28T13:00:00",
                    "2023-04-28T14:00:00",
                    "2023-04-28T15:00:00",
                    "2023-04-28T16:00:00",
                    "2023-04-28T17:00:00",
                    "2023-04-28T18:00:00",
                    "2023-04-28T19:00:00",
                    "2023-04-28T20:00:00",
                    "2023-04-28T21:00:00",
                    "2023-04-28T22:00:00",
                    "2023-04-28T23:00:00",
                    "2023-04-29T00:00:00"
                  ],
                  "xaxis": "x",
                  "y": [
                    0,
                    0,
                    0,
                    0,
                    0,
                    0,
                    1,
                    0,
                    0,
                    1,
                    2,
                    2,
                    2,
                    1,
                    0,
                    1,
                    1,
                    1,
                    0,
                    0,
                    1,
                    1,
                    1,
                    1,
                    0,
                    0,
                    0,
                    0,
                    0,
                    0,
                    1,
                    3,
                    4,
                    1,
                    0,
                    1,
                    1,
                    1,
                    2,
                    1,
                    0,
                    1,
                    1,
                    0,
                    0,
                    0,
                    1,
                    0,
                    0,
                    0,
                    0,
                    0,
                    0,
                    0,
                    0,
                    3,
                    3,
                    3,
                    2,
                    0,
                    0,
                    0,
                    1,
                    0,
                    0,
                    1,
                    2,
                    0,
                    0,
                    1,
                    1,
                    0,
                    0,
                    0,
                    0,
                    0,
                    0,
                    0,
                    0,
                    7,
                    6,
                    1,
                    2,
                    2,
                    0,
                    3,
                    0,
                    0,
                    1,
                    3,
                    1,
                    0,
                    0,
                    0,
                    1,
                    0,
                    0,
                    0,
                    0,
                    0,
                    0,
                    0,
                    2,
                    2,
                    7,
                    1,
                    2,
                    1,
                    2,
                    0,
                    1,
                    0,
                    0,
                    1,
                    1,
                    1,
                    0,
                    2,
                    0,
                    0,
                    1,
                    0,
                    0,
                    0,
                    0,
                    0,
                    0,
                    1,
                    1,
                    3,
                    2,
                    0,
                    0,
                    1,
                    3,
                    0,
                    1,
                    0,
                    1,
                    1,
                    0,
                    0,
                    1,
                    1,
                    1,
                    0,
                    0,
                    0,
                    0,
                    0,
                    0,
                    0,
                    0,
                    0,
                    1,
                    0,
                    1,
                    0,
                    1,
                    0,
                    0,
                    2,
                    1,
                    2,
                    0,
                    0,
                    1,
                    0,
                    0,
                    0,
                    0,
                    1,
                    0,
                    0,
                    0,
                    0,
                    2,
                    0,
                    1,
                    2,
                    3,
                    0,
                    0,
                    1,
                    0,
                    1,
                    2,
                    1,
                    1,
                    2,
                    1,
                    0,
                    0,
                    0,
                    0,
                    0,
                    0,
                    0,
                    0,
                    2,
                    2,
                    5,
                    1,
                    0,
                    0,
                    0,
                    0,
                    0,
                    0,
                    0,
                    0,
                    1,
                    1,
                    0,
                    1,
                    0,
                    0,
                    0,
                    0,
                    0,
                    0,
                    0,
                    0,
                    6,
                    2,
                    4,
                    2,
                    2,
                    3,
                    0,
                    1,
                    1,
                    1,
                    0,
                    1,
                    0,
                    1,
                    3,
                    1,
                    0,
                    0,
                    0,
                    0,
                    0,
                    0,
                    0,
                    1,
                    4,
                    5,
                    0,
                    1,
                    1,
                    0,
                    0,
                    1,
                    2,
                    0,
                    0,
                    1,
                    0,
                    0,
                    2,
                    2,
                    0,
                    0,
                    0,
                    0,
                    0,
                    0,
                    0,
                    0,
                    3,
                    4,
                    2,
                    1,
                    0,
                    0,
                    0,
                    1,
                    0,
                    1,
                    0,
                    0,
                    2,
                    0,
                    1,
                    2,
                    1,
                    0,
                    0,
                    0,
                    0,
                    0,
                    0,
                    0,
                    2,
                    2,
                    0,
                    2,
                    1,
                    0,
                    0,
                    1,
                    0,
                    0,
                    1,
                    0,
                    2,
                    1,
                    1,
                    2,
                    4,
                    1,
                    0,
                    0,
                    0,
                    0,
                    0,
                    0,
                    0,
                    0,
                    0,
                    1,
                    3,
                    0,
                    1,
                    0,
                    0,
                    2,
                    1,
                    2,
                    1,
                    1,
                    0,
                    0,
                    1,
                    2,
                    0,
                    0,
                    0,
                    0,
                    0,
                    0,
                    1,
                    4,
                    0,
                    1,
                    1,
                    0,
                    4,
                    0,
                    0,
                    1,
                    1,
                    3,
                    0,
                    4,
                    0,
                    0,
                    0,
                    0,
                    0,
                    0,
                    0,
                    0,
                    0,
                    0,
                    4,
                    5,
                    1,
                    1,
                    3,
                    0,
                    1,
                    0,
                    1,
                    0,
                    0,
                    0,
                    1,
                    0,
                    1,
                    1,
                    0,
                    1,
                    0,
                    0,
                    0,
                    0,
                    0,
                    1,
                    4,
                    5,
                    4,
                    0,
                    3,
                    1,
                    1,
                    1,
                    0,
                    0,
                    3,
                    0,
                    0,
                    0,
                    1,
                    1,
                    0,
                    0,
                    0,
                    0,
                    0,
                    0,
                    1,
                    1,
                    7,
                    8,
                    3,
                    1,
                    3,
                    1,
                    0,
                    0,
                    0,
                    1,
                    0,
                    1,
                    0,
                    0,
                    0,
                    1,
                    1,
                    1,
                    0,
                    0,
                    0,
                    0,
                    2,
                    2,
                    6,
                    4,
                    2,
                    2,
                    1,
                    2,
                    1,
                    0,
                    1,
                    1,
                    2,
                    1,
                    1,
                    3,
                    1,
                    6,
                    0,
                    1,
                    0,
                    0,
                    0,
                    0,
                    1,
                    2,
                    2,
                    3,
                    2,
                    0,
                    1,
                    3,
                    0,
                    1,
                    0,
                    0,
                    1,
                    4,
                    0,
                    2,
                    1,
                    2,
                    3,
                    2,
                    1,
                    0,
                    0,
                    1,
                    0,
                    0,
                    0,
                    3,
                    1,
                    2,
                    0,
                    2,
                    0,
                    0,
                    1,
                    1,
                    2,
                    1,
                    2,
                    0,
                    2,
                    0,
                    0,
                    0,
                    0,
                    0,
                    0,
                    0,
                    0,
                    0,
                    1,
                    0,
                    2,
                    1,
                    0,
                    0,
                    1,
                    0,
                    0,
                    1,
                    0,
                    1,
                    1,
                    3,
                    0,
                    0,
                    0,
                    0,
                    0,
                    0,
                    0,
                    0,
                    0,
                    0,
                    4,
                    4,
                    1,
                    2,
                    0,
                    2,
                    1,
                    0,
                    0,
                    1,
                    2,
                    2,
                    0,
                    0,
                    1,
                    0,
                    0,
                    0,
                    0,
                    0,
                    0,
                    0,
                    0,
                    2,
                    5,
                    6,
                    4,
                    0,
                    2,
                    1,
                    1,
                    0,
                    0,
                    1,
                    3,
                    1,
                    1,
                    0,
                    0,
                    0,
                    1,
                    0,
                    1,
                    0,
                    0,
                    1,
                    0,
                    3,
                    5,
                    2,
                    6,
                    0,
                    2,
                    0,
                    1,
                    1,
                    2,
                    0,
                    1,
                    1,
                    1,
                    2,
                    0,
                    3,
                    0,
                    0,
                    0,
                    0,
                    0,
                    0,
                    0,
                    1,
                    6,
                    9,
                    6,
                    1,
                    2,
                    0,
                    0,
                    0,
                    0,
                    0,
                    0,
                    3,
                    0,
                    0,
                    1,
                    3,
                    2,
                    1,
                    0,
                    0,
                    0,
                    0,
                    1,
                    1,
                    2,
                    0,
                    3,
                    0,
                    3,
                    2,
                    1,
                    1,
                    1,
                    2,
                    2,
                    1,
                    2,
                    1,
                    1,
                    1,
                    2,
                    1
                  ],
                  "yaxis": "y"
                },
                {
                  "line": {
                    "color": "green"
                  },
                  "marker": {
                    "size": 10
                  },
                  "mode": "markers",
                  "name": "actual value",
                  "type": "scatter",
                  "x": [
                    "2023-04-29T00:00:00"
                  ],
                  "y": [
                    1
                  ]
                },
                {
                  "line": {
                    "color": "red"
                  },
                  "marker": {
                    "size": 15,
                    "symbol": "x"
                  },
                  "mode": "markers",
                  "name": "prediction",
                  "type": "scatter",
                  "x": [
                    "2023-04-29T00:00:00"
                  ],
                  "y": [
                    1.2754450168016602
                  ]
                }
              ],
              "layout": {
                "legend": {
                  "tracegroupgap": 0
                },
                "template": {
                  "data": {
                    "bar": [
                      {
                        "error_x": {
                          "color": "#f2f5fa"
                        },
                        "error_y": {
                          "color": "#f2f5fa"
                        },
                        "marker": {
                          "line": {
                            "color": "rgb(17,17,17)",
                            "width": 0.5
                          },
                          "pattern": {
                            "fillmode": "overlay",
                            "size": 10,
                            "solidity": 0.2
                          }
                        },
                        "type": "bar"
                      }
                    ],
                    "barpolar": [
                      {
                        "marker": {
                          "line": {
                            "color": "rgb(17,17,17)",
                            "width": 0.5
                          },
                          "pattern": {
                            "fillmode": "overlay",
                            "size": 10,
                            "solidity": 0.2
                          }
                        },
                        "type": "barpolar"
                      }
                    ],
                    "carpet": [
                      {
                        "aaxis": {
                          "endlinecolor": "#A2B1C6",
                          "gridcolor": "#506784",
                          "linecolor": "#506784",
                          "minorgridcolor": "#506784",
                          "startlinecolor": "#A2B1C6"
                        },
                        "baxis": {
                          "endlinecolor": "#A2B1C6",
                          "gridcolor": "#506784",
                          "linecolor": "#506784",
                          "minorgridcolor": "#506784",
                          "startlinecolor": "#A2B1C6"
                        },
                        "type": "carpet"
                      }
                    ],
                    "choropleth": [
                      {
                        "colorbar": {
                          "outlinewidth": 0,
                          "ticks": ""
                        },
                        "type": "choropleth"
                      }
                    ],
                    "contour": [
                      {
                        "colorbar": {
                          "outlinewidth": 0,
                          "ticks": ""
                        },
                        "colorscale": [
                          [
                            0,
                            "#0d0887"
                          ],
                          [
                            0.1111111111111111,
                            "#46039f"
                          ],
                          [
                            0.2222222222222222,
                            "#7201a8"
                          ],
                          [
                            0.3333333333333333,
                            "#9c179e"
                          ],
                          [
                            0.4444444444444444,
                            "#bd3786"
                          ],
                          [
                            0.5555555555555556,
                            "#d8576b"
                          ],
                          [
                            0.6666666666666666,
                            "#ed7953"
                          ],
                          [
                            0.7777777777777778,
                            "#fb9f3a"
                          ],
                          [
                            0.8888888888888888,
                            "#fdca26"
                          ],
                          [
                            1,
                            "#f0f921"
                          ]
                        ],
                        "type": "contour"
                      }
                    ],
                    "contourcarpet": [
                      {
                        "colorbar": {
                          "outlinewidth": 0,
                          "ticks": ""
                        },
                        "type": "contourcarpet"
                      }
                    ],
                    "heatmap": [
                      {
                        "colorbar": {
                          "outlinewidth": 0,
                          "ticks": ""
                        },
                        "colorscale": [
                          [
                            0,
                            "#0d0887"
                          ],
                          [
                            0.1111111111111111,
                            "#46039f"
                          ],
                          [
                            0.2222222222222222,
                            "#7201a8"
                          ],
                          [
                            0.3333333333333333,
                            "#9c179e"
                          ],
                          [
                            0.4444444444444444,
                            "#bd3786"
                          ],
                          [
                            0.5555555555555556,
                            "#d8576b"
                          ],
                          [
                            0.6666666666666666,
                            "#ed7953"
                          ],
                          [
                            0.7777777777777778,
                            "#fb9f3a"
                          ],
                          [
                            0.8888888888888888,
                            "#fdca26"
                          ],
                          [
                            1,
                            "#f0f921"
                          ]
                        ],
                        "type": "heatmap"
                      }
                    ],
                    "heatmapgl": [
                      {
                        "colorbar": {
                          "outlinewidth": 0,
                          "ticks": ""
                        },
                        "colorscale": [
                          [
                            0,
                            "#0d0887"
                          ],
                          [
                            0.1111111111111111,
                            "#46039f"
                          ],
                          [
                            0.2222222222222222,
                            "#7201a8"
                          ],
                          [
                            0.3333333333333333,
                            "#9c179e"
                          ],
                          [
                            0.4444444444444444,
                            "#bd3786"
                          ],
                          [
                            0.5555555555555556,
                            "#d8576b"
                          ],
                          [
                            0.6666666666666666,
                            "#ed7953"
                          ],
                          [
                            0.7777777777777778,
                            "#fb9f3a"
                          ],
                          [
                            0.8888888888888888,
                            "#fdca26"
                          ],
                          [
                            1,
                            "#f0f921"
                          ]
                        ],
                        "type": "heatmapgl"
                      }
                    ],
                    "histogram": [
                      {
                        "marker": {
                          "pattern": {
                            "fillmode": "overlay",
                            "size": 10,
                            "solidity": 0.2
                          }
                        },
                        "type": "histogram"
                      }
                    ],
                    "histogram2d": [
                      {
                        "colorbar": {
                          "outlinewidth": 0,
                          "ticks": ""
                        },
                        "colorscale": [
                          [
                            0,
                            "#0d0887"
                          ],
                          [
                            0.1111111111111111,
                            "#46039f"
                          ],
                          [
                            0.2222222222222222,
                            "#7201a8"
                          ],
                          [
                            0.3333333333333333,
                            "#9c179e"
                          ],
                          [
                            0.4444444444444444,
                            "#bd3786"
                          ],
                          [
                            0.5555555555555556,
                            "#d8576b"
                          ],
                          [
                            0.6666666666666666,
                            "#ed7953"
                          ],
                          [
                            0.7777777777777778,
                            "#fb9f3a"
                          ],
                          [
                            0.8888888888888888,
                            "#fdca26"
                          ],
                          [
                            1,
                            "#f0f921"
                          ]
                        ],
                        "type": "histogram2d"
                      }
                    ],
                    "histogram2dcontour": [
                      {
                        "colorbar": {
                          "outlinewidth": 0,
                          "ticks": ""
                        },
                        "colorscale": [
                          [
                            0,
                            "#0d0887"
                          ],
                          [
                            0.1111111111111111,
                            "#46039f"
                          ],
                          [
                            0.2222222222222222,
                            "#7201a8"
                          ],
                          [
                            0.3333333333333333,
                            "#9c179e"
                          ],
                          [
                            0.4444444444444444,
                            "#bd3786"
                          ],
                          [
                            0.5555555555555556,
                            "#d8576b"
                          ],
                          [
                            0.6666666666666666,
                            "#ed7953"
                          ],
                          [
                            0.7777777777777778,
                            "#fb9f3a"
                          ],
                          [
                            0.8888888888888888,
                            "#fdca26"
                          ],
                          [
                            1,
                            "#f0f921"
                          ]
                        ],
                        "type": "histogram2dcontour"
                      }
                    ],
                    "mesh3d": [
                      {
                        "colorbar": {
                          "outlinewidth": 0,
                          "ticks": ""
                        },
                        "type": "mesh3d"
                      }
                    ],
                    "parcoords": [
                      {
                        "line": {
                          "colorbar": {
                            "outlinewidth": 0,
                            "ticks": ""
                          }
                        },
                        "type": "parcoords"
                      }
                    ],
                    "pie": [
                      {
                        "automargin": true,
                        "type": "pie"
                      }
                    ],
                    "scatter": [
                      {
                        "marker": {
                          "line": {
                            "color": "#283442"
                          }
                        },
                        "type": "scatter"
                      }
                    ],
                    "scatter3d": [
                      {
                        "line": {
                          "colorbar": {
                            "outlinewidth": 0,
                            "ticks": ""
                          }
                        },
                        "marker": {
                          "colorbar": {
                            "outlinewidth": 0,
                            "ticks": ""
                          }
                        },
                        "type": "scatter3d"
                      }
                    ],
                    "scattercarpet": [
                      {
                        "marker": {
                          "colorbar": {
                            "outlinewidth": 0,
                            "ticks": ""
                          }
                        },
                        "type": "scattercarpet"
                      }
                    ],
                    "scattergeo": [
                      {
                        "marker": {
                          "colorbar": {
                            "outlinewidth": 0,
                            "ticks": ""
                          }
                        },
                        "type": "scattergeo"
                      }
                    ],
                    "scattergl": [
                      {
                        "marker": {
                          "line": {
                            "color": "#283442"
                          }
                        },
                        "type": "scattergl"
                      }
                    ],
                    "scattermapbox": [
                      {
                        "marker": {
                          "colorbar": {
                            "outlinewidth": 0,
                            "ticks": ""
                          }
                        },
                        "type": "scattermapbox"
                      }
                    ],
                    "scatterpolar": [
                      {
                        "marker": {
                          "colorbar": {
                            "outlinewidth": 0,
                            "ticks": ""
                          }
                        },
                        "type": "scatterpolar"
                      }
                    ],
                    "scatterpolargl": [
                      {
                        "marker": {
                          "colorbar": {
                            "outlinewidth": 0,
                            "ticks": ""
                          }
                        },
                        "type": "scatterpolargl"
                      }
                    ],
                    "scatterternary": [
                      {
                        "marker": {
                          "colorbar": {
                            "outlinewidth": 0,
                            "ticks": ""
                          }
                        },
                        "type": "scatterternary"
                      }
                    ],
                    "surface": [
                      {
                        "colorbar": {
                          "outlinewidth": 0,
                          "ticks": ""
                        },
                        "colorscale": [
                          [
                            0,
                            "#0d0887"
                          ],
                          [
                            0.1111111111111111,
                            "#46039f"
                          ],
                          [
                            0.2222222222222222,
                            "#7201a8"
                          ],
                          [
                            0.3333333333333333,
                            "#9c179e"
                          ],
                          [
                            0.4444444444444444,
                            "#bd3786"
                          ],
                          [
                            0.5555555555555556,
                            "#d8576b"
                          ],
                          [
                            0.6666666666666666,
                            "#ed7953"
                          ],
                          [
                            0.7777777777777778,
                            "#fb9f3a"
                          ],
                          [
                            0.8888888888888888,
                            "#fdca26"
                          ],
                          [
                            1,
                            "#f0f921"
                          ]
                        ],
                        "type": "surface"
                      }
                    ],
                    "table": [
                      {
                        "cells": {
                          "fill": {
                            "color": "#506784"
                          },
                          "line": {
                            "color": "rgb(17,17,17)"
                          }
                        },
                        "header": {
                          "fill": {
                            "color": "#2a3f5f"
                          },
                          "line": {
                            "color": "rgb(17,17,17)"
                          }
                        },
                        "type": "table"
                      }
                    ]
                  },
                  "layout": {
                    "annotationdefaults": {
                      "arrowcolor": "#f2f5fa",
                      "arrowhead": 0,
                      "arrowwidth": 1
                    },
                    "autotypenumbers": "strict",
                    "coloraxis": {
                      "colorbar": {
                        "outlinewidth": 0,
                        "ticks": ""
                      }
                    },
                    "colorscale": {
                      "diverging": [
                        [
                          0,
                          "#8e0152"
                        ],
                        [
                          0.1,
                          "#c51b7d"
                        ],
                        [
                          0.2,
                          "#de77ae"
                        ],
                        [
                          0.3,
                          "#f1b6da"
                        ],
                        [
                          0.4,
                          "#fde0ef"
                        ],
                        [
                          0.5,
                          "#f7f7f7"
                        ],
                        [
                          0.6,
                          "#e6f5d0"
                        ],
                        [
                          0.7,
                          "#b8e186"
                        ],
                        [
                          0.8,
                          "#7fbc41"
                        ],
                        [
                          0.9,
                          "#4d9221"
                        ],
                        [
                          1,
                          "#276419"
                        ]
                      ],
                      "sequential": [
                        [
                          0,
                          "#0d0887"
                        ],
                        [
                          0.1111111111111111,
                          "#46039f"
                        ],
                        [
                          0.2222222222222222,
                          "#7201a8"
                        ],
                        [
                          0.3333333333333333,
                          "#9c179e"
                        ],
                        [
                          0.4444444444444444,
                          "#bd3786"
                        ],
                        [
                          0.5555555555555556,
                          "#d8576b"
                        ],
                        [
                          0.6666666666666666,
                          "#ed7953"
                        ],
                        [
                          0.7777777777777778,
                          "#fb9f3a"
                        ],
                        [
                          0.8888888888888888,
                          "#fdca26"
                        ],
                        [
                          1,
                          "#f0f921"
                        ]
                      ],
                      "sequentialminus": [
                        [
                          0,
                          "#0d0887"
                        ],
                        [
                          0.1111111111111111,
                          "#46039f"
                        ],
                        [
                          0.2222222222222222,
                          "#7201a8"
                        ],
                        [
                          0.3333333333333333,
                          "#9c179e"
                        ],
                        [
                          0.4444444444444444,
                          "#bd3786"
                        ],
                        [
                          0.5555555555555556,
                          "#d8576b"
                        ],
                        [
                          0.6666666666666666,
                          "#ed7953"
                        ],
                        [
                          0.7777777777777778,
                          "#fb9f3a"
                        ],
                        [
                          0.8888888888888888,
                          "#fdca26"
                        ],
                        [
                          1,
                          "#f0f921"
                        ]
                      ]
                    },
                    "colorway": [
                      "#636efa",
                      "#EF553B",
                      "#00cc96",
                      "#ab63fa",
                      "#FFA15A",
                      "#19d3f3",
                      "#FF6692",
                      "#B6E880",
                      "#FF97FF",
                      "#FECB52"
                    ],
                    "font": {
                      "color": "#f2f5fa"
                    },
                    "geo": {
                      "bgcolor": "rgb(17,17,17)",
                      "lakecolor": "rgb(17,17,17)",
                      "landcolor": "rgb(17,17,17)",
                      "showlakes": true,
                      "showland": true,
                      "subunitcolor": "#506784"
                    },
                    "hoverlabel": {
                      "align": "left"
                    },
                    "hovermode": "closest",
                    "mapbox": {
                      "style": "dark"
                    },
                    "paper_bgcolor": "rgb(17,17,17)",
                    "plot_bgcolor": "rgb(17,17,17)",
                    "polar": {
                      "angularaxis": {
                        "gridcolor": "#506784",
                        "linecolor": "#506784",
                        "ticks": ""
                      },
                      "bgcolor": "rgb(17,17,17)",
                      "radialaxis": {
                        "gridcolor": "#506784",
                        "linecolor": "#506784",
                        "ticks": ""
                      }
                    },
                    "scene": {
                      "xaxis": {
                        "backgroundcolor": "rgb(17,17,17)",
                        "gridcolor": "#506784",
                        "gridwidth": 2,
                        "linecolor": "#506784",
                        "showbackground": true,
                        "ticks": "",
                        "zerolinecolor": "#C8D4E3"
                      },
                      "yaxis": {
                        "backgroundcolor": "rgb(17,17,17)",
                        "gridcolor": "#506784",
                        "gridwidth": 2,
                        "linecolor": "#506784",
                        "showbackground": true,
                        "ticks": "",
                        "zerolinecolor": "#C8D4E3"
                      },
                      "zaxis": {
                        "backgroundcolor": "rgb(17,17,17)",
                        "gridcolor": "#506784",
                        "gridwidth": 2,
                        "linecolor": "#506784",
                        "showbackground": true,
                        "ticks": "",
                        "zerolinecolor": "#C8D4E3"
                      }
                    },
                    "shapedefaults": {
                      "line": {
                        "color": "#f2f5fa"
                      }
                    },
                    "sliderdefaults": {
                      "bgcolor": "#C8D4E3",
                      "bordercolor": "rgb(17,17,17)",
                      "borderwidth": 1,
                      "tickwidth": 0
                    },
                    "ternary": {
                      "aaxis": {
                        "gridcolor": "#506784",
                        "linecolor": "#506784",
                        "ticks": ""
                      },
                      "baxis": {
                        "gridcolor": "#506784",
                        "linecolor": "#506784",
                        "ticks": ""
                      },
                      "bgcolor": "rgb(17,17,17)",
                      "caxis": {
                        "gridcolor": "#506784",
                        "linecolor": "#506784",
                        "ticks": ""
                      }
                    },
                    "title": {
                      "x": 0.05
                    },
                    "updatemenudefaults": {
                      "bgcolor": "#506784",
                      "borderwidth": 0
                    },
                    "xaxis": {
                      "automargin": true,
                      "gridcolor": "#283442",
                      "linecolor": "#506784",
                      "ticks": "",
                      "title": {
                        "standoff": 15
                      },
                      "zerolinecolor": "#283442",
                      "zerolinewidth": 2
                    },
                    "yaxis": {
                      "automargin": true,
                      "gridcolor": "#283442",
                      "linecolor": "#506784",
                      "ticks": "",
                      "title": {
                        "standoff": 15
                      },
                      "zerolinecolor": "#283442",
                      "zerolinewidth": 2
                    }
                  }
                },
                "title": {
                  "text": "Pick up hour=2023-04-29 00:00:00, location_id=52"
                },
                "xaxis": {
                  "anchor": "y",
                  "domain": [
                    0,
                    1
                  ],
                  "title": {
                    "text": "x"
                  }
                },
                "yaxis": {
                  "anchor": "x",
                  "domain": [
                    0,
                    1
                  ],
                  "title": {
                    "text": "y"
                  }
                }
              }
            }
          },
          "metadata": {},
          "output_type": "display_data"
        }
      ],
      "source": [
        "plot_one_sample(\n",
        "    example_id=40,\n",
        "    features=X_test,\n",
        "    targets=y_test,\n",
        "    predictions=pd.Series(predictions)\n",
        ")"
      ]
    },
    {
      "cell_type": "code",
      "execution_count": null,
      "metadata": {
        "id": "EWdurF13wmLe"
      },
      "outputs": [],
      "source": []
    }
  ],
  "metadata": {
    "colab": {
      "provenance": []
    },
    "kernelspec": {
      "display_name": "Python 3.9.5 64-bit",
      "language": "python",
      "name": "python3"
    },
    "language_info": {
      "codemirror_mode": {
        "name": "ipython",
        "version": 3
      },
      "file_extension": ".py",
      "mimetype": "text/x-python",
      "name": "python",
      "nbconvert_exporter": "python",
      "pygments_lexer": "ipython3",
      "version": "3.9.5"
    },
    "orig_nbformat": 4,
    "vscode": {
      "interpreter": {
        "hash": "aee8b7b246df8f9039afb4144a1f6fd8d2ca17a180786b69acc140d282b71a49"
      }
    }
  },
  "nbformat": 4,
  "nbformat_minor": 0
}
